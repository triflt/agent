{
 "cells": [
  {
   "cell_type": "code",
   "execution_count": null,
   "metadata": {},
   "outputs": [],
   "source": [
    "import re\n",
    "import requests\n",
    "from bs4 import BeautifulSoup, Tag\n",
    "import csv\n",
    "import sys\n",
    "from tqdm import tqdm\n",
    "import warnings\n",
    "from requests.packages.u\n",
    "from datetime import datetime\n",
    "from typing import List, Optional\n",
    "from pydantic import BaseModel, Field, HttpUrl\n",
    "\n",
    "rllib3.exceptions import InsecureRequestWarning\n",
    "\n",
    "# Ignore only the InsecureRequestWarning\n",
    "warnings.simplefilter(\"ignore\", InsecureRequestWarning)\n",
    "\n",
    "class SearchResult(BaseModel):\n",
    "    \"\"\"\n",
    "    Individual search result from ITMO news/pages\n",
    "    \"\"\"\n",
    "    title: str\n",
    "    url: HttpUrl\n",
    "    description: Optional[str] = None\n",
    "    date: Optional[datetime] = None\n",
    "    content: Optional[str] = None\n",
    "\n",
    "class SearchResponse(BaseModel):\n",
    "    \"\"\"\n",
    "    Complete search response\n",
    "    \"\"\"\n",
    "    query: str\n",
    "    total_results: int\n",
    "    results: List[SearchResult]\n",
    "    search_time: datetime = Field(default_factory=datetime.now)\n",
    "\n",
    "def clean_article_content(content_block: Tag) -> str:\n",
    "    \"\"\"\n",
    "    Remove unnecessary elements and prepare text:\n",
    "      - Remove <script> and <style>\n",
    "      - Convert non-breaking spaces (\\xa0) to regular spaces\n",
    "      - Collapse multiple spaces/newlines\n",
    "    \"\"\"\n",
    "    # 1. Remove <script> and <style> tags\n",
    "    for unwanted_tag in content_block([\"script\", \"style\"]):\n",
    "        unwanted_tag.decompose()\n",
    "\n",
    "    # 2. Extract text\n",
    "    text = content_block.get_text(separator=\"\\n\", strip=True)\n",
    "\n",
    "    # 3. Remove non-breaking spaces\n",
    "    text = text.replace(\"\\xa0\", \" \")\n",
    "\n",
    "    # 4. Collapse multiple newlines and extra spaces\n",
    "    text = re.sub(r\"\\n\\s*\\n+\", \"\\n\\n\", text)\n",
    "    text = re.sub(r\" {2,}\", \" \", text)\n",
    "\n",
    "    # 5. Final strip\n",
    "    text = text.strip()\n",
    "    return text\n",
    "\n",
    "def parse_itmo_article_page(html_content: str) -> dict:\n",
    "    \"\"\"\n",
    "    Extracts data from a single ITMO article page:\n",
    "      - title\n",
    "      - publication_datetime (e.g. 2025-01-22T11:48:35+03:00)\n",
    "      - views\n",
    "      - authors (list of strings)\n",
    "      - tags (list of strings)\n",
    "      - cleaned article_text\n",
    "    \"\"\"\n",
    "    soup = BeautifulSoup(html_content, \"html.parser\")\n",
    "    \n",
    "    # Title\n",
    "    title_tag = soup.select_one(\"div.article h1\")\n",
    "    title = title_tag.get_text(strip=True) if title_tag else None\n",
    "\n",
    "    # Date/time in time[datetime], e.g. 2025-01-22T11:48:35+03:00\n",
    "    time_tag = soup.select_one(\"div.news-info-wrapper time\")\n",
    "    publication_datetime_str = time_tag.get(\"datetime\", \"\").strip() if time_tag else None\n",
    "    publication_datetime = None\n",
    "    if publication_datetime_str:\n",
    "        # Try to parse as an ISO datetime\n",
    "        # If you need more robust parsing, install/use dateutil.parser.parse(...)\n",
    "        try:\n",
    "            publication_datetime = datetime.fromisoformat(publication_datetime_str)\n",
    "        except ValueError:\n",
    "            # fallback if the format is not strictly ISO or can't be parsed\n",
    "            publication_datetime = None\n",
    "\n",
    "    # Views (example: <span class=\"icon eye\">1049</span>)\n",
    "    views_span = time_tag.select_one(\"span.icon.eye\") if time_tag else None\n",
    "    views = views_span.get_text(strip=True) if views_span else None\n",
    "\n",
    "    # Authors\n",
    "    authors = []\n",
    "    for author_block in soup.select(\".author-block .author-item\"):\n",
    "        name_tag = author_block.select_one(\".about h6 a[rel='author']\")\n",
    "        if name_tag:\n",
    "            authors.append(name_tag.get_text(strip=True))\n",
    "\n",
    "    # Tags\n",
    "    tags = []\n",
    "    for tag_item in soup.select(\"ul.tags li a\"):\n",
    "        tags.append(tag_item.get_text(strip=True))\n",
    "\n",
    "    # Main article text\n",
    "    article_block = soup.select_one(\".content.js-mediator-article\")\n",
    "    article_text = clean_article_content(article_block) if article_block else \"\"\n",
    "\n",
    "    return {\n",
    "        \"title\": title,\n",
    "        \"publication_datetime\": publication_datetime,\n",
    "        \"views\": views,\n",
    "        \"authors\": authors,\n",
    "        \"tags\": tags,\n",
    "        \"article_text\": article_text\n",
    "    }\n",
    "\n",
    "\n",
    "def parse_itmo_search_page(html_content: str):\n",
    "    \"\"\"\n",
    "    Parses the main ITMO search result page, returning:\n",
    "      - total_results (string or integer)\n",
    "      - articles: list of {title, link, snippet, date (string)}\n",
    "    \"\"\"\n",
    "    soup = BeautifulSoup(html_content, \"html.parser\")\n",
    "\n",
    "    # Find total results (e.g. \"152 результата\")\n",
    "    total_results_str = None\n",
    "    h2_element = soup.select_one(\".weeklyevents h2 span\")\n",
    "    if h2_element:\n",
    "        total_results_str = h2_element.get_text(strip=True)\n",
    "\n",
    "    # Convert e.g. \"152 результата\" -> 152 (if possible)\n",
    "    total_results = 0\n",
    "    if total_results_str:\n",
    "        # Use regex to extract digits\n",
    "        match = re.search(r\"(\\d+)\", total_results_str)\n",
    "        if match:\n",
    "            total_results = int(match.group(1))\n",
    "\n",
    "    # Parse each result (li.weeklyevent)\n",
    "    results = []\n",
    "    for item in soup.select(\".weeklyevents ul li.weeklyevent\"):\n",
    "        h4 = item.find(\"h4\")\n",
    "        if not h4 or not h4.find(\"a\"):\n",
    "            continue\n",
    "\n",
    "        # Title & Link\n",
    "        title_tag = h4.find(\"a\")\n",
    "        title = title_tag.get_text(strip=True)\n",
    "        link = title_tag[\"href\"]\n",
    "        if link.startswith(\"/\"):\n",
    "            link = \"https://news.itmo.ru\" + link\n",
    "\n",
    "        # paragraphs typically contain snippet & date\n",
    "        paragraphs = item.find_all(\"p\")\n",
    "        snippet = paragraphs[0].get_text(strip=True) if len(paragraphs) > 0 else None\n",
    "        date_str = paragraphs[-1].get_text(strip=True) if len(paragraphs) > 1 else None\n",
    "\n",
    "        results.append({\n",
    "            \"title\": title,\n",
    "            \"link\": link,\n",
    "            \"snippet\": snippet,\n",
    "            \"date\": date_str  # date as string for now\n",
    "        })\n",
    "\n",
    "    return {\n",
    "        \"total_results\": total_results,\n",
    "        \"articles\": results\n",
    "    }\n",
    "\n",
    "def get_search_results(\n",
    "    query: str,\n",
    "    max_articles: int = 5\n",
    ") -> SearchResponse:\n",
    "    \"\"\"\n",
    "    High-level function that:\n",
    "      - Searches ITMO news for `query`\n",
    "      - Parses search results\n",
    "      - Fetches each article's content\n",
    "      - Returns a Pydantic SearchResponse\n",
    "    \"\"\"\n",
    "    # Build the search URL\n",
    "    base_url = \"https://news.itmo.ru/ru/search/\"\n",
    "    params = {\"search\": query}\n",
    "\n",
    "    # 1. Fetch the search page\n",
    "    response = requests.get(base_url, params=params, verify=False)\n",
    "    response.raise_for_status()\n",
    "\n",
    "    # 2. Parse the search page\n",
    "    search_data = parse_itmo_search_page(response.text)\n",
    "    total_found = search_data[\"total_results\"]\n",
    "    raw_articles = search_data[\"articles\"]\n",
    "\n",
    "    # 3. For each article (up to max_articles), parse additional data\n",
    "    results_list = []\n",
    "    for article_info in raw_articles[:max_articles]:\n",
    "        url = article_info[\"link\"]\n",
    "        snippet = article_info[\"snippet\"]\n",
    "        date_str = article_info[\"date\"]\n",
    "\n",
    "        # 3a. Fetch & parse the article page\n",
    "        article_resp = requests.get(url, verify=False)\n",
    "        article_resp.raise_for_status()\n",
    "        article_data = parse_itmo_article_page(article_resp.text)\n",
    "\n",
    "        # 3b. Build a Pydantic SearchResult\n",
    "        # We'll use the parse_itmo_article_page date if it's valid,\n",
    "        # otherwise fallback to the date from the search snippet.\n",
    "        final_date = article_data[\"publication_datetime\"]\n",
    "\n",
    "        # If parse_itmo_article_page could not parse any date/time, optionally try\n",
    "        # to parse `date_str` from the snippet. This might be \"22.01.2025\" or similar.\n",
    "        # For demonstration, we'll do a simple attempt:\n",
    "        if not final_date and date_str:\n",
    "            # Attempt a naive parse of \"DD.MM.YYYY\" \n",
    "            match = re.search(r\"(\\d{2}\\.\\d{2}\\.\\d{4})\", date_str)\n",
    "            if match:\n",
    "                try:\n",
    "                    final_date = datetime.strptime(match.group(1), \"%d.%m.%Y\")\n",
    "                except ValueError:\n",
    "                    final_date = None\n",
    "\n",
    "        # Construct the SearchResult\n",
    "        search_result = SearchResult(\n",
    "            title=article_data[\"title\"] or article_info[\"title\"],\n",
    "            url=url,\n",
    "            description=snippet,\n",
    "            date=final_date,\n",
    "            content=article_data[\"article_text\"]\n",
    "        )\n",
    "        results_list.append(search_result)\n",
    "\n",
    "    # 4. Build & return our SearchResponse\n",
    "    return SearchResponse(\n",
    "        query=query,\n",
    "        total_results=total_found,\n",
    "        results=results_list\n",
    "    )\n",
    "\n",
    "if __name__ == \"__main__\":\n",
    "    # Example usage\n",
    "    from pprint import pprint\n",
    "\n",
    "    query = \"yandex\"\n",
    "    max_articles = 2  # parse first 3 articles in detail\n",
    "    search_response = get_search_results(query, max_articles)\n",
    "\n",
    "    # Print out the resulting data\n",
    "    # Because it's a Pydantic model, we can do .dict() or .json() too\n",
    "    print(\"--- SEARCH RESPONSE (dict) ---\")\n",
    "    pprint(search_response.dict())\n",
    "    \n",
    "    # Or just show each result nicely\n",
    "    print(\"\\n--- HUMAN-READABLE OUTPUT ---\")\n",
    "    print(f\"Query: {search_response.query}\")\n",
    "    print(f\"Total found: {search_response.total_results}\")\n",
    "    for idx, result in enumerate(search_response.results, 1):\n",
    "        print(f\"\\nResult {idx}:\")\n",
    "        print(f\"  Title: {result.title}\")\n",
    "        print(f\"  URL:   {result.url}\")\n",
    "        print(f\"  Date:  {result.date}\")\n",
    "        print(f\"  Snippet/desc: {result.description}\")\n",
    "        # Show first 200 chars of content\n",
    "        if result.content:\n",
    "            print(f\"  Content (truncated): {result.content[:200]}...\")\n",
    "        else:\n",
    "            print(\"  Content: [empty]\")"
   ]
  },
  {
   "cell_type": "code",
   "execution_count": 51,
   "metadata": {},
   "outputs": [
    {
     "name": "stderr",
     "output_type": "stream",
     "text": [
      "  1%|          | 1/106 [00:02<04:58,  2.85s/it]"
     ]
    },
    {
     "name": "stdout",
     "output_type": "stream",
     "text": [
      "\n",
      "=== Query: История (Found: 440) ===\n"
     ]
    },
    {
     "name": "stderr",
     "output_type": "stream",
     "text": [
      "  2%|▏         | 2/106 [00:05<05:07,  2.96s/it]"
     ]
    },
    {
     "name": "stdout",
     "output_type": "stream",
     "text": [
      "\n",
      "=== Query: Основание (Found: 64) ===\n"
     ]
    },
    {
     "name": "stderr",
     "output_type": "stream",
     "text": [
      "  3%|▎         | 3/106 [00:08<04:51,  2.83s/it]"
     ]
    },
    {
     "name": "stdout",
     "output_type": "stream",
     "text": [
      "\n",
      "=== Query: Рейтинг (Found: 758) ===\n"
     ]
    },
    {
     "name": "stderr",
     "output_type": "stream",
     "text": [
      "  4%|▍         | 4/106 [00:09<03:40,  2.16s/it]"
     ]
    },
    {
     "name": "stdout",
     "output_type": "stream",
     "text": [
      "\n",
      "=== Query: Титулы (Found: 0) ===\n"
     ]
    },
    {
     "name": "stderr",
     "output_type": "stream",
     "text": [
      "  5%|▍         | 5/106 [00:12<03:57,  2.35s/it]"
     ]
    },
    {
     "name": "stdout",
     "output_type": "stream",
     "text": [
      "\n",
      "=== Query: Миссия (Found: 294) ===\n"
     ]
    },
    {
     "name": "stderr",
     "output_type": "stream",
     "text": [
      "  6%|▌         | 6/106 [00:15<04:07,  2.47s/it]"
     ]
    },
    {
     "name": "stdout",
     "output_type": "stream",
     "text": [
      "\n",
      "=== Query: Наука (Found: 905) ===\n"
     ]
    },
    {
     "name": "stderr",
     "output_type": "stream",
     "text": [
      "  7%|▋         | 7/106 [00:17<04:08,  2.51s/it]"
     ]
    },
    {
     "name": "stdout",
     "output_type": "stream",
     "text": [
      "\n",
      "=== Query: Исследования (Found: 2386) ===\n"
     ]
    },
    {
     "name": "stderr",
     "output_type": "stream",
     "text": [
      "  8%|▊         | 8/106 [00:20<04:08,  2.54s/it]"
     ]
    },
    {
     "name": "stdout",
     "output_type": "stream",
     "text": [
      "\n",
      "=== Query: Гранты (Found: 242) ===\n"
     ]
    },
    {
     "name": "stderr",
     "output_type": "stream",
     "text": [
      "  8%|▊         | 9/106 [00:22<04:07,  2.55s/it]"
     ]
    },
    {
     "name": "stdout",
     "output_type": "stream",
     "text": [
      "\n",
      "=== Query: Лаборатории (Found: 1708) ===\n"
     ]
    },
    {
     "name": "stderr",
     "output_type": "stream",
     "text": [
      "  9%|▉         | 10/106 [00:25<04:03,  2.53s/it]"
     ]
    },
    {
     "name": "stdout",
     "output_type": "stream",
     "text": [
      "\n",
      "=== Query: Публикации (Found: 348) ===\n"
     ]
    },
    {
     "name": "stderr",
     "output_type": "stream",
     "text": [
      " 10%|█         | 11/106 [00:28<04:07,  2.60s/it]"
     ]
    },
    {
     "name": "stdout",
     "output_type": "stream",
     "text": [
      "\n",
      "=== Query: Поступление (Found: 188) ===\n"
     ]
    },
    {
     "name": "stderr",
     "output_type": "stream",
     "text": [
      " 11%|█▏        | 12/106 [00:30<04:12,  2.68s/it]"
     ]
    },
    {
     "name": "stdout",
     "output_type": "stream",
     "text": [
      "\n",
      "=== Query: Проходной балл (Found: 28) ===\n"
     ]
    },
    {
     "name": "stderr",
     "output_type": "stream",
     "text": [
      " 12%|█▏        | 13/106 [00:33<04:09,  2.68s/it]"
     ]
    },
    {
     "name": "stdout",
     "output_type": "stream",
     "text": [
      "\n",
      "=== Query: Приёмная (Found: 80) ===\n"
     ]
    },
    {
     "name": "stderr",
     "output_type": "stream",
     "text": [
      " 13%|█▎        | 14/106 [00:36<04:08,  2.70s/it]"
     ]
    },
    {
     "name": "stdout",
     "output_type": "stream",
     "text": [
      "\n",
      "=== Query: ЕГЭ (Found: 245) ===\n"
     ]
    },
    {
     "name": "stderr",
     "output_type": "stream",
     "text": [
      " 14%|█▍        | 15/106 [00:38<03:58,  2.62s/it]"
     ]
    },
    {
     "name": "stdout",
     "output_type": "stream",
     "text": [
      "\n",
      "=== Query: Бюджет (Found: 482) ===\n"
     ]
    },
    {
     "name": "stderr",
     "output_type": "stream",
     "text": [
      " 15%|█▌        | 16/106 [00:41<03:59,  2.66s/it]"
     ]
    },
    {
     "name": "stdout",
     "output_type": "stream",
     "text": [
      "\n",
      "=== Query: Контракт (Found: 206) ===\n"
     ]
    },
    {
     "name": "stderr",
     "output_type": "stream",
     "text": [
      " 16%|█▌        | 17/106 [00:44<04:00,  2.71s/it]"
     ]
    },
    {
     "name": "stdout",
     "output_type": "stream",
     "text": [
      "\n",
      "=== Query: Льготы (Found: 65) ===\n"
     ]
    },
    {
     "name": "stderr",
     "output_type": "stream",
     "text": [
      " 17%|█▋        | 18/106 [00:47<04:03,  2.77s/it]"
     ]
    },
    {
     "name": "stdout",
     "output_type": "stream",
     "text": [
      "\n",
      "=== Query: Целевая (Found: 52) ===\n"
     ]
    },
    {
     "name": "stderr",
     "output_type": "stream",
     "text": [
      " 18%|█▊        | 19/106 [00:50<04:02,  2.78s/it]"
     ]
    },
    {
     "name": "stdout",
     "output_type": "stream",
     "text": [
      "\n",
      "=== Query: Олимпиады (Found: 433) ===\n"
     ]
    },
    {
     "name": "stderr",
     "output_type": "stream",
     "text": [
      " 19%|█▉        | 20/106 [00:52<03:56,  2.74s/it]"
     ]
    },
    {
     "name": "stdout",
     "output_type": "stream",
     "text": [
      "\n",
      "=== Query: Права (Found: 216) ===\n"
     ]
    },
    {
     "name": "stderr",
     "output_type": "stream",
     "text": [
      " 20%|█▉        | 21/106 [00:53<03:06,  2.20s/it]"
     ]
    },
    {
     "name": "stdout",
     "output_type": "stream",
     "text": [
      "\n",
      "=== Query: ФакультетСтипендии (Found: 0) ===\n"
     ]
    },
    {
     "name": "stderr",
     "output_type": "stream",
     "text": [
      " 21%|██        | 22/106 [00:56<03:19,  2.37s/it]"
     ]
    },
    {
     "name": "stdout",
     "output_type": "stream",
     "text": [
      "\n",
      "=== Query: Повышенная (Found: 24) ===\n"
     ]
    },
    {
     "name": "stderr",
     "output_type": "stream",
     "text": [
      " 22%|██▏       | 23/106 [00:57<02:45,  1.99s/it]"
     ]
    },
    {
     "name": "stdout",
     "output_type": "stream",
     "text": [
      "\n",
      "=== Query: Соцстипендия (Found: 0) ===\n"
     ]
    },
    {
     "name": "stderr",
     "output_type": "stream",
     "text": [
      " 23%|██▎       | 24/106 [00:58<02:20,  1.72s/it]"
     ]
    },
    {
     "name": "stdout",
     "output_type": "stream",
     "text": [
      "\n",
      "=== Query: Студгранты (Found: 0) ===\n"
     ]
    },
    {
     "name": "stderr",
     "output_type": "stream",
     "text": [
      " 24%|██▎       | 25/106 [01:01<02:41,  1.99s/it]"
     ]
    },
    {
     "name": "stdout",
     "output_type": "stream",
     "text": [
      "\n",
      "=== Query: Поддержка (Found: 333) ===\n"
     ]
    },
    {
     "name": "stderr",
     "output_type": "stream",
     "text": [
      " 25%|██▍       | 26/106 [01:02<02:26,  1.83s/it]"
     ]
    },
    {
     "name": "stdout",
     "output_type": "stream",
     "text": [
      "\n",
      "=== Query: Спонсорство (Found: 2) ===\n"
     ]
    },
    {
     "name": "stderr",
     "output_type": "stream",
     "text": [
      " 25%|██▌       | 27/106 [01:05<02:34,  1.96s/it]"
     ]
    },
    {
     "name": "stdout",
     "output_type": "stream",
     "text": [
      "\n",
      "=== Query: Президентская (Found: 7) ===\n"
     ]
    },
    {
     "name": "stderr",
     "output_type": "stream",
     "text": [
      " 26%|██▋       | 28/106 [01:07<02:44,  2.11s/it]"
     ]
    },
    {
     "name": "stdout",
     "output_type": "stream",
     "text": [
      "\n",
      "=== Query: Международные (Found: 393) ===\n"
     ]
    },
    {
     "name": "stderr",
     "output_type": "stream",
     "text": [
      " 27%|██▋       | 29/106 [01:10<02:56,  2.29s/it]"
     ]
    },
    {
     "name": "stdout",
     "output_type": "stream",
     "text": [
      "\n",
      "=== Query: Конкурсы (Found: 190) ===\n"
     ]
    },
    {
     "name": "stderr",
     "output_type": "stream",
     "text": [
      " 28%|██▊       | 30/106 [01:12<03:00,  2.38s/it]"
     ]
    },
    {
     "name": "stdout",
     "output_type": "stream",
     "text": [
      "\n",
      "=== Query: Заявка (Found: 134) ===\n"
     ]
    },
    {
     "name": "stderr",
     "output_type": "stream",
     "text": [
      " 29%|██▉       | 31/106 [01:15<03:02,  2.44s/it]"
     ]
    },
    {
     "name": "stdout",
     "output_type": "stream",
     "text": [
      "\n",
      "=== Query: Магистратура (Found: 216) ===\n"
     ]
    },
    {
     "name": "stderr",
     "output_type": "stream",
     "text": [
      " 30%|███       | 32/106 [01:18<03:06,  2.52s/it]"
     ]
    },
    {
     "name": "stdout",
     "output_type": "stream",
     "text": [
      "\n",
      "=== Query: Аспирантура (Found: 62) ===\n"
     ]
    },
    {
     "name": "stderr",
     "output_type": "stream",
     "text": [
      " 31%|███       | 33/106 [01:19<02:35,  2.13s/it]"
     ]
    },
    {
     "name": "stdout",
     "output_type": "stream",
     "text": [
      "\n",
      "=== Query: Докторантура (Found: 1) ===\n"
     ]
    },
    {
     "name": "stderr",
     "output_type": "stream",
     "text": [
      " 32%|███▏      | 34/106 [01:21<02:45,  2.30s/it]"
     ]
    },
    {
     "name": "stdout",
     "output_type": "stream",
     "text": [
      "\n",
      "=== Query: Бакалавриат (Found: 771) ===\n"
     ]
    },
    {
     "name": "stderr",
     "output_type": "stream",
     "text": [
      " 33%|███▎      | 35/106 [01:24<02:50,  2.40s/it]"
     ]
    },
    {
     "name": "stdout",
     "output_type": "stream",
     "text": [
      "\n",
      "=== Query: Направления (Found: 1807) ===\n"
     ]
    },
    {
     "name": "stderr",
     "output_type": "stream",
     "text": [
      " 34%|███▍      | 36/106 [01:27<02:57,  2.54s/it]"
     ]
    },
    {
     "name": "stdout",
     "output_type": "stream",
     "text": [
      "\n",
      "=== Query: Специальности (Found: 358) ===\n"
     ]
    },
    {
     "name": "stderr",
     "output_type": "stream",
     "text": [
      " 35%|███▍      | 37/106 [01:28<02:24,  2.09s/it]"
     ]
    },
    {
     "name": "stdout",
     "output_type": "stream",
     "text": [
      "\n",
      "=== Query: Учплан (Found: 0) ===\n"
     ]
    },
    {
     "name": "stderr",
     "output_type": "stream",
     "text": [
      " 36%|███▌      | 38/106 [01:31<02:36,  2.30s/it]"
     ]
    },
    {
     "name": "stdout",
     "output_type": "stream",
     "text": [
      "\n",
      "=== Query: Модули (Found: 132) ===\n"
     ]
    },
    {
     "name": "stderr",
     "output_type": "stream",
     "text": [
      " 37%|███▋      | 39/106 [01:32<02:07,  1.91s/it]"
     ]
    },
    {
     "name": "stdout",
     "output_type": "stream",
     "text": [
      "\n",
      "=== Query: Заочка (Found: 0) ===\n"
     ]
    },
    {
     "name": "stderr",
     "output_type": "stream",
     "text": [
      " 38%|███▊      | 40/106 [01:33<01:52,  1.70s/it]"
     ]
    },
    {
     "name": "stdout",
     "output_type": "stream",
     "text": [
      "\n",
      "=== Query: Дистанционка (Found: 1) ===\n"
     ]
    },
    {
     "name": "stderr",
     "output_type": "stream",
     "text": [
      " 39%|███▊      | 41/106 [01:34<01:39,  1.54s/it]"
     ]
    },
    {
     "name": "stdout",
     "output_type": "stream",
     "text": [
      "\n",
      "=== Query: НовостиОнлайн-курсы (Found: 0) ===\n"
     ]
    },
    {
     "name": "stderr",
     "output_type": "stream",
     "text": [
      " 40%|███▉      | 42/106 [01:35<01:33,  1.46s/it]"
     ]
    },
    {
     "name": "stdout",
     "output_type": "stream",
     "text": [
      "\n",
      "=== Query: Допобразование (Found: 1) ===\n"
     ]
    },
    {
     "name": "stderr",
     "output_type": "stream",
     "text": [
      " 41%|████      | 43/106 [01:38<01:57,  1.86s/it]"
     ]
    },
    {
     "name": "stdout",
     "output_type": "stream",
     "text": [
      "\n",
      "=== Query: Квалификация (Found: 22) ===\n"
     ]
    },
    {
     "name": "stderr",
     "output_type": "stream",
     "text": [
      " 42%|████▏     | 44/106 [01:40<01:48,  1.74s/it]"
     ]
    },
    {
     "name": "stdout",
     "output_type": "stream",
     "text": [
      "\n",
      "=== Query: Профпереподг (Found: 2) ===\n"
     ]
    },
    {
     "name": "stderr",
     "output_type": "stream",
     "text": [
      " 42%|████▏     | 45/106 [01:42<02:04,  2.05s/it]"
     ]
    },
    {
     "name": "stdout",
     "output_type": "stream",
     "text": [
      "\n",
      "=== Query: Семинары (Found: 227) ===\n"
     ]
    },
    {
     "name": "stderr",
     "output_type": "stream",
     "text": [
      " 43%|████▎     | 46/106 [01:45<02:17,  2.30s/it]"
     ]
    },
    {
     "name": "stdout",
     "output_type": "stream",
     "text": [
      "\n",
      "=== Query: Летние школы (Found: 50) ===\n"
     ]
    },
    {
     "name": "stderr",
     "output_type": "stream",
     "text": [
      " 44%|████▍     | 47/106 [01:48<02:26,  2.49s/it]"
     ]
    },
    {
     "name": "stdout",
     "output_type": "stream",
     "text": [
      "\n",
      "=== Query: Зимние школы (Found: 26) ===\n"
     ]
    },
    {
     "name": "stderr",
     "output_type": "stream",
     "text": [
      " 45%|████▌     | 48/106 [01:51<02:22,  2.46s/it]"
     ]
    },
    {
     "name": "stdout",
     "output_type": "stream",
     "text": [
      "\n",
      "=== Query: Вечерние (Found: 7) ===\n"
     ]
    },
    {
     "name": "stderr",
     "output_type": "stream",
     "text": [
      " 46%|████▌     | 49/106 [01:52<02:01,  2.14s/it]"
     ]
    },
    {
     "name": "stdout",
     "output_type": "stream",
     "text": [
      "\n",
      "=== Query: Курсы IT (Found: 2) ===\n"
     ]
    },
    {
     "name": "stderr",
     "output_type": "stream",
     "text": [
      " 47%|████▋     | 50/106 [01:55<02:10,  2.32s/it]"
     ]
    },
    {
     "name": "stdout",
     "output_type": "stream",
     "text": [
      "\n",
      "=== Query: Компетенции (Found: 463) ===\n"
     ]
    },
    {
     "name": "stderr",
     "output_type": "stream",
     "text": [
      " 48%|████▊     | 51/106 [01:58<02:18,  2.52s/it]"
     ]
    },
    {
     "name": "stdout",
     "output_type": "stream",
     "text": [
      "\n",
      "=== Query: Партнёры (Found: 329) ===\n"
     ]
    },
    {
     "name": "stderr",
     "output_type": "stream",
     "text": [
      " 49%|████▉     | 52/106 [02:01<02:26,  2.72s/it]"
     ]
    },
    {
     "name": "stdout",
     "output_type": "stream",
     "text": [
      "\n",
      "=== Query: Обмен (Found: 926) ===\n"
     ]
    },
    {
     "name": "stderr",
     "output_type": "stream",
     "text": [
      " 50%|█████     | 53/106 [02:03<02:11,  2.48s/it]"
     ]
    },
    {
     "name": "stdout",
     "output_type": "stream",
     "text": [
      "\n",
      "=== Query: Двойной диплом (Found: 5) ===\n"
     ]
    },
    {
     "name": "stderr",
     "output_type": "stream",
     "text": [
      " 51%|█████     | 54/106 [02:05<02:02,  2.36s/it]"
     ]
    },
    {
     "name": "stdout",
     "output_type": "stream",
     "text": [
      "\n",
      "=== Query: Зарубежная (Found: 6) ===\n"
     ]
    },
    {
     "name": "stderr",
     "output_type": "stream",
     "text": [
      " 52%|█████▏    | 55/106 [02:06<01:41,  2.00s/it]"
     ]
    },
    {
     "name": "stdout",
     "output_type": "stream",
     "text": [
      "\n",
      "=== Query: Академмобильность (Found: 0) ===\n"
     ]
    },
    {
     "name": "stderr",
     "output_type": "stream",
     "text": [
      " 53%|█████▎    | 56/106 [02:09<01:53,  2.27s/it]"
     ]
    },
    {
     "name": "stdout",
     "output_type": "stream",
     "text": [
      "\n",
      "=== Query: Erasmus+ (Found: 53) ===\n"
     ]
    },
    {
     "name": "stderr",
     "output_type": "stream",
     "text": [
      " 54%|█████▍    | 57/106 [02:12<02:03,  2.52s/it]"
     ]
    },
    {
     "name": "stdout",
     "output_type": "stream",
     "text": [
      "\n",
      "=== Query: Иностранцы (Found: 34) ===\n"
     ]
    },
    {
     "name": "stderr",
     "output_type": "stream",
     "text": [
      " 55%|█████▍    | 58/106 [02:13<01:41,  2.11s/it]"
     ]
    },
    {
     "name": "stdout",
     "output_type": "stream",
     "text": [
      "\n",
      "=== Query: Англопрограммы (Found: 0) ===\n"
     ]
    },
    {
     "name": "stderr",
     "output_type": "stream",
     "text": [
      " 56%|█████▌    | 59/106 [02:15<01:31,  1.95s/it]"
     ]
    },
    {
     "name": "stdout",
     "output_type": "stream",
     "text": [
      "\n",
      "=== Query: World rankings (Found: 3) ===\n"
     ]
    },
    {
     "name": "stderr",
     "output_type": "stream",
     "text": [
      " 57%|█████▋    | 60/106 [02:18<01:41,  2.21s/it]"
     ]
    },
    {
     "name": "stdout",
     "output_type": "stream",
     "text": [
      "\n",
      "=== Query: Спорт (Found: 1649) ===\n"
     ]
    },
    {
     "name": "stderr",
     "output_type": "stream",
     "text": [
      " 58%|█████▊    | 61/106 [02:20<01:43,  2.30s/it]"
     ]
    },
    {
     "name": "stdout",
     "output_type": "stream",
     "text": [
      "\n",
      "=== Query: Студсовет (Found: 8) ===\n"
     ]
    },
    {
     "name": "stderr",
     "output_type": "stream",
     "text": [
      " 58%|█████▊    | 62/106 [02:23<01:48,  2.46s/it]"
     ]
    },
    {
     "name": "stdout",
     "output_type": "stream",
     "text": [
      "\n",
      "=== Query: Клубы (Found: 69) ===\n"
     ]
    },
    {
     "name": "stderr",
     "output_type": "stream",
     "text": [
      " 59%|█████▉    | 63/106 [02:24<01:29,  2.09s/it]"
     ]
    },
    {
     "name": "stdout",
     "output_type": "stream",
     "text": [
      "\n",
      "=== Query: Научные кружки (Found: 0) ===\n"
     ]
    },
    {
     "name": "stderr",
     "output_type": "stream",
     "text": [
      " 60%|██████    | 64/106 [02:27<01:36,  2.29s/it]"
     ]
    },
    {
     "name": "stdout",
     "output_type": "stream",
     "text": [
      "\n",
      "=== Query: Волонтёры (Found: 83) ===\n"
     ]
    },
    {
     "name": "stderr",
     "output_type": "stream",
     "text": [
      " 61%|██████▏   | 65/106 [02:28<01:19,  1.94s/it]"
     ]
    },
    {
     "name": "stdout",
     "output_type": "stream",
     "text": [
      "\n",
      "=== Query: Студжизнь (Found: 0) ===\n"
     ]
    },
    {
     "name": "stderr",
     "output_type": "stream",
     "text": [
      " 62%|██████▏   | 66/106 [02:31<01:29,  2.23s/it]"
     ]
    },
    {
     "name": "stdout",
     "output_type": "stream",
     "text": [
      "\n",
      "=== Query: Хакатоны (Found: 59) ===\n"
     ]
    },
    {
     "name": "stderr",
     "output_type": "stream",
     "text": [
      " 63%|██████▎   | 67/106 [02:34<01:31,  2.36s/it]"
     ]
    },
    {
     "name": "stdout",
     "output_type": "stream",
     "text": [
      "\n",
      "=== Query: Проекты (Found: 1725) ===\n"
     ]
    },
    {
     "name": "stderr",
     "output_type": "stream",
     "text": [
      " 64%|██████▍   | 68/106 [02:36<01:33,  2.45s/it]"
     ]
    },
    {
     "name": "stdout",
     "output_type": "stream",
     "text": [
      "\n",
      "=== Query: Конференции (Found: 1014) ===\n"
     ]
    },
    {
     "name": "stderr",
     "output_type": "stream",
     "text": [
      " 65%|██████▌   | 69/106 [02:39<01:34,  2.56s/it]"
     ]
    },
    {
     "name": "stdout",
     "output_type": "stream",
     "text": [
      "\n",
      "=== Query: Стажировки (Found: 377) ===\n"
     ]
    },
    {
     "name": "stderr",
     "output_type": "stream",
     "text": [
      " 66%|██████▌   | 70/106 [02:42<01:37,  2.71s/it]"
     ]
    },
    {
     "name": "stdout",
     "output_type": "stream",
     "text": [
      "\n",
      "=== Query: Аудитории (Found: 525) ===\n"
     ]
    },
    {
     "name": "stderr",
     "output_type": "stream",
     "text": [
      " 67%|██████▋   | 71/106 [02:45<01:37,  2.78s/it]"
     ]
    },
    {
     "name": "stdout",
     "output_type": "stream",
     "text": [
      "\n",
      "=== Query: Корпуса (Found: 226) ===\n"
     ]
    },
    {
     "name": "stderr",
     "output_type": "stream",
     "text": [
      " 68%|██████▊   | 72/106 [02:48<01:37,  2.88s/it]"
     ]
    },
    {
     "name": "stdout",
     "output_type": "stream",
     "text": [
      "\n",
      "=== Query: Общежитие (Found: 53) ===\n"
     ]
    },
    {
     "name": "stderr",
     "output_type": "stream",
     "text": [
      " 69%|██████▉   | 73/106 [02:51<01:34,  2.88s/it]"
     ]
    },
    {
     "name": "stdout",
     "output_type": "stream",
     "text": [
      "\n",
      "=== Query: Проживание (Found: 101) ===\n"
     ]
    },
    {
     "name": "stderr",
     "output_type": "stream",
     "text": [
      " 70%|██████▉   | 74/106 [02:52<01:14,  2.32s/it]"
     ]
    },
    {
     "name": "stdout",
     "output_type": "stream",
     "text": [
      "\n",
      "=== Query: Матбаза (Found: 0) ===\n"
     ]
    },
    {
     "name": "stderr",
     "output_type": "stream",
     "text": [
      " 71%|███████   | 75/106 [02:55<01:19,  2.57s/it]"
     ]
    },
    {
     "name": "stdout",
     "output_type": "stream",
     "text": [
      "\n",
      "=== Query: Коворкинги (Found: 31) ===\n"
     ]
    },
    {
     "name": "stderr",
     "output_type": "stream",
     "text": [
      " 72%|███████▏  | 76/106 [02:58<01:21,  2.70s/it]"
     ]
    },
    {
     "name": "stdout",
     "output_type": "stream",
     "text": [
      "\n",
      "=== Query: Библиотека (Found: 113) ===\n"
     ]
    },
    {
     "name": "stderr",
     "output_type": "stream",
     "text": [
      " 73%|███████▎  | 77/106 [03:01<01:20,  2.79s/it]"
     ]
    },
    {
     "name": "stdout",
     "output_type": "stream",
     "text": [
      "\n",
      "=== Query: Электронная (Found: 80) ===\n"
     ]
    },
    {
     "name": "stderr",
     "output_type": "stream",
     "text": [
      " 74%|███████▎  | 78/106 [03:03<01:04,  2.31s/it]"
     ]
    },
    {
     "name": "stdout",
     "output_type": "stream",
     "text": [
      "\n",
      "=== Query: Инфоресурсы (Found: 0) ===\n"
     ]
    },
    {
     "name": "stderr",
     "output_type": "stream",
     "text": [
      " 75%|███████▍  | 79/106 [03:04<00:52,  1.96s/it]"
     ]
    },
    {
     "name": "stdout",
     "output_type": "stream",
     "text": [
      "\n",
      "=== Query: Кампус-тур (Found: 0) ===\n"
     ]
    },
    {
     "name": "stderr",
     "output_type": "stream",
     "text": [
      " 75%|███████▌  | 80/106 [03:07<00:59,  2.28s/it]"
     ]
    },
    {
     "name": "stdout",
     "output_type": "stream",
     "text": [
      "\n",
      "=== Query: Адрес (Found: 541) ===\n"
     ]
    },
    {
     "name": "stderr",
     "output_type": "stream",
     "text": [
      " 76%|███████▋  | 81/106 [03:09<01:00,  2.43s/it]"
     ]
    },
    {
     "name": "stdout",
     "output_type": "stream",
     "text": [
      "\n",
      "=== Query: Транспорт (Found: 646) ===\n"
     ]
    },
    {
     "name": "stderr",
     "output_type": "stream",
     "text": [
      " 77%|███████▋  | 82/106 [03:12<01:02,  2.60s/it]"
     ]
    },
    {
     "name": "stdout",
     "output_type": "stream",
     "text": [
      "\n",
      "=== Query: Правила (Found: 581) ===\n"
     ]
    },
    {
     "name": "stderr",
     "output_type": "stream",
     "text": [
      " 78%|███████▊  | 83/106 [03:14<00:50,  2.19s/it]"
     ]
    },
    {
     "name": "stdout",
     "output_type": "stream",
     "text": [
      "\n",
      "=== Query: Академотпуск (Found: 0) ===\n"
     ]
    },
    {
     "name": "stderr",
     "output_type": "stream",
     "text": [
      " 79%|███████▉  | 84/106 [03:16<00:50,  2.30s/it]"
     ]
    },
    {
     "name": "stdout",
     "output_type": "stream",
     "text": [
      "\n",
      "=== Query: Перевод (Found: 375) ===\n"
     ]
    },
    {
     "name": "stderr",
     "output_type": "stream",
     "text": [
      " 80%|████████  | 85/106 [03:19<00:51,  2.43s/it]"
     ]
    },
    {
     "name": "stdout",
     "output_type": "stream",
     "text": [
      "\n",
      "=== Query: Регламент (Found: 129) ===\n"
     ]
    },
    {
     "name": "stderr",
     "output_type": "stream",
     "text": [
      " 81%|████████  | 86/106 [03:22<00:50,  2.50s/it]"
     ]
    },
    {
     "name": "stdout",
     "output_type": "stream",
     "text": [
      "\n",
      "=== Query: Экзамены (Found: 156) ===\n"
     ]
    },
    {
     "name": "stderr",
     "output_type": "stream",
     "text": [
      " 82%|████████▏ | 87/106 [03:23<00:43,  2.28s/it]"
     ]
    },
    {
     "name": "stdout",
     "output_type": "stream",
     "text": [
      "\n",
      "=== Query: Апелляция (Found: 4) ===\n"
     ]
    },
    {
     "name": "stderr",
     "output_type": "stream",
     "text": [
      " 83%|████████▎ | 88/106 [03:24<00:34,  1.89s/it]"
     ]
    },
    {
     "name": "stdout",
     "output_type": "stream",
     "text": [
      "\n",
      "=== Query: Э-расписание (Found: 0) ===\n"
     ]
    },
    {
     "name": "stderr",
     "output_type": "stream",
     "text": [
      " 84%|████████▍ | 89/106 [03:27<00:36,  2.17s/it]"
     ]
    },
    {
     "name": "stdout",
     "output_type": "stream",
     "text": [
      "\n",
      "=== Query: Выпускники (Found: 638) ===\n"
     ]
    },
    {
     "name": "stderr",
     "output_type": "stream",
     "text": [
      " 85%|████████▍ | 90/106 [03:30<00:37,  2.36s/it]"
     ]
    },
    {
     "name": "stdout",
     "output_type": "stream",
     "text": [
      "\n",
      "=== Query: Вакансии (Found: 77) ===\n"
     ]
    },
    {
     "name": "stderr",
     "output_type": "stream",
     "text": [
      " 86%|████████▌ | 91/106 [03:33<00:37,  2.52s/it]"
     ]
    },
    {
     "name": "stdout",
     "output_type": "stream",
     "text": [
      "\n",
      "=== Query: Трудоустройство (Found: 66) ===\n"
     ]
    },
    {
     "name": "stderr",
     "output_type": "stream",
     "text": [
      " 87%|████████▋ | 92/106 [03:35<00:34,  2.50s/it]"
     ]
    },
    {
     "name": "stdout",
     "output_type": "stream",
     "text": [
      "\n",
      "=== Query: Компании (Found: 2004) ===\n"
     ]
    },
    {
     "name": "stderr",
     "output_type": "stream",
     "text": [
      " 88%|████████▊ | 93/106 [03:37<00:27,  2.09s/it]"
     ]
    },
    {
     "name": "stdout",
     "output_type": "stream",
     "text": [
      "\n",
      "=== Query: Карьерный центр (Found: 0) ===\n"
     ]
    },
    {
     "name": "stderr",
     "output_type": "stream",
     "text": [
      " 89%|████████▊ | 94/106 [03:39<00:27,  2.30s/it]"
     ]
    },
    {
     "name": "stdout",
     "output_type": "stream",
     "text": [
      "\n",
      "=== Query: Стартап (Found: 1000) ===\n"
     ]
    },
    {
     "name": "stderr",
     "output_type": "stream",
     "text": [
      " 90%|████████▉ | 95/106 [03:42<00:26,  2.44s/it]"
     ]
    },
    {
     "name": "stdout",
     "output_type": "stream",
     "text": [
      "\n",
      "=== Query: Акселератор (Found: 449) ===\n"
     ]
    },
    {
     "name": "stderr",
     "output_type": "stream",
     "text": [
      " 91%|█████████ | 96/106 [03:45<00:25,  2.52s/it]"
     ]
    },
    {
     "name": "stdout",
     "output_type": "stream",
     "text": [
      "\n",
      "=== Query: Предприниматель (Found: 810) ===\n"
     ]
    },
    {
     "name": "stderr",
     "output_type": "stream",
     "text": [
      " 92%|█████████▏| 97/106 [03:48<00:23,  2.62s/it]"
     ]
    },
    {
     "name": "stdout",
     "output_type": "stream",
     "text": [
      "\n",
      "=== Query: Инноватика (Found: 44) ===\n"
     ]
    },
    {
     "name": "stderr",
     "output_type": "stream",
     "text": [
      " 92%|█████████▏| 98/106 [03:50<00:21,  2.68s/it]"
     ]
    },
    {
     "name": "stdout",
     "output_type": "stream",
     "text": [
      "\n",
      "=== Query: Выдающиеся (Found: 66) ===\n"
     ]
    },
    {
     "name": "stderr",
     "output_type": "stream",
     "text": [
      " 93%|█████████▎| 99/106 [03:53<00:19,  2.74s/it]"
     ]
    },
    {
     "name": "stdout",
     "output_type": "stream",
     "text": [
      "\n",
      "=== Query: Известные (Found: 213) ===\n"
     ]
    },
    {
     "name": "stderr",
     "output_type": "stream",
     "text": [
      " 94%|█████████▍| 100/106 [03:54<00:13,  2.23s/it]"
     ]
    },
    {
     "name": "stdout",
     "output_type": "stream",
     "text": [
      "\n",
      "=== Query: МеждународныеИскуственный интеллект (Found: 0) ===\n"
     ]
    },
    {
     "name": "stderr",
     "output_type": "stream",
     "text": [
      " 96%|█████████▌| 102/106 [03:57<00:06,  1.72s/it]"
     ]
    },
    {
     "name": "stdout",
     "output_type": "stream",
     "text": [
      "\n",
      "=== Query: Talent Hub (Found: 13) ===\n",
      "\n",
      "=== Query: AI (Found: 0) ===\n"
     ]
    },
    {
     "name": "stderr",
     "output_type": "stream",
     "text": [
      " 97%|█████████▋| 103/106 [04:00<00:05,  1.96s/it]"
     ]
    },
    {
     "name": "stdout",
     "output_type": "stream",
     "text": [
      "\n",
      "=== Query: ITMO (Found: 3045) ===\n"
     ]
    },
    {
     "name": "stderr",
     "output_type": "stream",
     "text": [
      " 98%|█████████▊| 104/106 [04:02<00:03,  1.90s/it]"
     ]
    },
    {
     "name": "stdout",
     "output_type": "stream",
     "text": [
      "\n",
      "=== Query: ИТМО (Found: 6969) ===\n"
     ]
    },
    {
     "name": "stderr",
     "output_type": "stream",
     "text": [
      " 99%|█████████▉| 105/106 [04:04<00:02,  2.11s/it]"
     ]
    },
    {
     "name": "stdout",
     "output_type": "stream",
     "text": [
      "\n",
      "=== Query: Ректор (Found: 2685) ===\n"
     ]
    },
    {
     "name": "stderr",
     "output_type": "stream",
     "text": [
      "100%|██████████| 106/106 [04:07<00:00,  2.33s/it]"
     ]
    },
    {
     "name": "stdout",
     "output_type": "stream",
     "text": [
      "\n",
      "=== Query: Проректор (Found: 431) ===\n",
      "\n",
      "All results have been written to 'itmo_search_results.csv'.\n"
     ]
    },
    {
     "name": "stderr",
     "output_type": "stream",
     "text": [
      "\n"
     ]
    }
   ],
   "source": [
    "\n",
    "\n",
    "# Example shortened queries to parse (feel free to adjust or replace them):\n",
    "queries = [\n",
    "    \"История\", \"Основание\", \"Рейтинг\", \"Титулы\", \"Миссия\",\n",
    "    \"Наука\", \"Исследования\", \"Гранты\", \"Лаборатории\", \"Публикации\",\n",
    "    \"Поступление\", \"Проходной балл\", \"Приёмная\", \"ЕГЭ\", \"Бюджет\",\n",
    "    \"Контракт\", \"Льготы\", \"Целевая\", \"Олимпиады\", \"Права\", \"Факультет\"\n",
    "    \"Стипендии\", \"Повышенная\", \"Соцстипендия\", \"Студгранты\", \"Поддержка\",\n",
    "    \"Спонсорство\", \"Президентская\", \"Международные\", \"Конкурсы\", \"Заявка\",\n",
    "    \"Магистратура\", \"Аспирантура\", \"Докторантура\", \"Бакалавриат\", \"Направления\",\n",
    "    \"Специальности\", \"Учплан\", \"Модули\", \"Заочка\", \"Дистанционка\", \"Новости\"\n",
    "    \"Онлайн-курсы\", \"Допобразование\", \"Квалификация\", \"Профпереподг\", \"Семинары\",\n",
    "    \"Летние школы\", \"Зимние школы\", \"Вечерние\", \"Курсы IT\", \"Компетенции\",\n",
    "    \"Партнёры\", \"Обмен\", \"Двойной диплом\", \"Зарубежная\", \"Академмобильность\",\n",
    "    \"Erasmus+\", \"Иностранцы\", \"Англопрограммы\", \"World rankings\", \"Спорт\",\n",
    "    \"Студсовет\", \"Клубы\", \"Научные кружки\", \"Волонтёры\", \"Студжизнь\",\n",
    "    \"Хакатоны\", \"Проекты\", \"Конференции\", \"Стажировки\", \"Аудитории\",\n",
    "    \"Корпуса\", \"Общежитие\", \"Проживание\", \"Матбаза\", \"Коворкинги\",\n",
    "    \"Библиотека\", \"Электронная\", \"Инфоресурсы\", \"Кампус-тур\", \"Адрес\",\n",
    "    \"Транспорт\", \"Правила\", \"Академотпуск\", \"Перевод\", \"Регламент\",\n",
    "    \"Экзамены\", \"Апелляция\", \"Э-расписание\", \"Выпускники\", \"Вакансии\",\n",
    "    \"Трудоустройство\", \"Компании\", \"Карьерный центр\", \"Стартап\", \"Акселератор\",\n",
    "    \"Предприниматель\", \"Инноватика\", \"Выдающиеся\", \"Известные\", \"Международные\"\n",
    "    \"Искуственный интеллект\", \"Talent Hub\", \"AI\", \"ITMO\", \"ИТМО\", \"Ректор\",\n",
    "    \"Проректор\"\n",
    "]\n",
    "\n",
    "def main():\n",
    "    csv_filename = \"itmo_search_results.csv\"\n",
    "\n",
    "    # Open CSV file for writing\n",
    "    with open(csv_filename, \"w\", newline=\"\", encoding=\"utf-8\") as f:\n",
    "        writer = csv.writer(f, delimiter=\";\")\n",
    "        # Header row\n",
    "        writer.writerow([\"Query\", \"Title\", \"url\", \"Date\", \"Snippet/desc\", \"content\"])\n",
    "\n",
    "        for query in tqdm(queries):\n",
    "            try:\n",
    "                # Call your previously defined function:\n",
    "                search_response = get_search_results(query, max_articles=40)\n",
    "\n",
    "                # Print a short summary to console\n",
    "                print(f\"\\n=== Query: {query} (Found: {search_response.total_results}) ===\")\n",
    "\n",
    "                for idx, result in enumerate(search_response.results, 1):\n",
    "                    # Save row to CSV\n",
    "                    row = [\n",
    "                        query,\n",
    "                        result.title,\n",
    "                        str(result.url),\n",
    "                        result.date.isoformat() if result.date else \"\",\n",
    "                        result.description or \"\",\n",
    "                        result.content or \"\"\n",
    "                    ]\n",
    "                    writer.writerow(row)\n",
    "\n",
    "            except Exception as e:\n",
    "                # If there's a network error or parse error, print it but continue\n",
    "                print(f\"Error processing query '{query}': {e}\", file=sys.stderr)\n",
    "\n",
    "    print(f\"\\nAll results have been written to '{csv_filename}'.\")\n",
    "\n",
    "if __name__ == \"__main__\":\n",
    "    main()"
   ]
  },
  {
   "cell_type": "code",
   "execution_count": null,
   "metadata": {},
   "outputs": [],
   "source": [
    "parsed_data = pd.read_csv('itmo_search_results.csv', on_bad_lines='skip', delimiter=';')"
   ]
  },
  {
   "cell_type": "code",
   "execution_count": 63,
   "metadata": {},
   "outputs": [],
   "source": [
    "parsed_data = parsed_data.rename(columns={'URL': 'url', 'Content': 'content'})\n",
    "parsed_data['source'] =  parsed_data['url']"
   ]
  },
  {
   "cell_type": "code",
   "execution_count": 68,
   "metadata": {},
   "outputs": [],
   "source": [
    "parsed_data.to_csv('../data/processed/texts.csv', index=False)"
   ]
  },
  {
   "cell_type": "code",
   "execution_count": 70,
   "metadata": {},
   "outputs": [
    {
     "data": {
      "text/html": [
       "<div>\n",
       "<style scoped>\n",
       "    .dataframe tbody tr th:only-of-type {\n",
       "        vertical-align: middle;\n",
       "    }\n",
       "\n",
       "    .dataframe tbody tr th {\n",
       "        vertical-align: top;\n",
       "    }\n",
       "\n",
       "    .dataframe thead th {\n",
       "        text-align: right;\n",
       "    }\n",
       "</style>\n",
       "<table border=\"1\" class=\"dataframe\">\n",
       "  <thead>\n",
       "    <tr style=\"text-align: right;\">\n",
       "      <th></th>\n",
       "      <th>Query</th>\n",
       "      <th>Title</th>\n",
       "      <th>url</th>\n",
       "      <th>Date</th>\n",
       "      <th>Snippet/desc</th>\n",
       "      <th>content</th>\n",
       "      <th>source</th>\n",
       "    </tr>\n",
       "  </thead>\n",
       "  <tbody>\n",
       "    <tr>\n",
       "      <th>0</th>\n",
       "      <td>История</td>\n",
       "      <td>«Можно быть прикольным ученым, а не скучным за...</td>\n",
       "      <td>https://news.itmo.ru/ru/science/photonics/news...</td>\n",
       "      <td>2025-01-15T13:17:31+03:00</td>\n",
       "      <td>…й в пиджаке.\\r\\n\\r\\n― И как вы решили идти к ...</td>\n",
       "      <td>В школе Алексей Кохановский прочитал автобиогр...</td>\n",
       "      <td>https://news.itmo.ru/ru/science/photonics/news...</td>\n",
       "    </tr>\n",
       "    <tr>\n",
       "      <th>1</th>\n",
       "      <td>История</td>\n",
       "      <td>«Инклюзия — логичная эволюция дизайна»: какие ...</td>\n",
       "      <td>https://news.itmo.ru/ru/education/trend/news/1...</td>\n",
       "      <td>2024-11-22T16:01:53+03:00</td>\n",
       "      <td>…ь на будущем месте работы», — подчеркнул выпу...</td>\n",
       "      <td>Как сегодня создаются отечественные цифровые с...</td>\n",
       "      <td>https://news.itmo.ru/ru/education/trend/news/1...</td>\n",
       "    </tr>\n",
       "    <tr>\n",
       "      <th>2</th>\n",
       "      <td>История</td>\n",
       "      <td>Не только сфинксы и Эрмитаж: в Петербурге выбр...</td>\n",
       "      <td>https://news.itmo.ru/ru/education/cooperation/...</td>\n",
       "      <td>2024-10-31T10:00:10+03:00</td>\n",
       "      <td>…о сфинксами, Исаакиевским собором и Бродским ...</td>\n",
       "      <td>В Петербурге подвели итоги проектной школы по ...</td>\n",
       "      <td>https://news.itmo.ru/ru/education/cooperation/...</td>\n",
       "    </tr>\n",
       "    <tr>\n",
       "      <th>3</th>\n",
       "      <td>История</td>\n",
       "      <td>Никакой скучной физкультуры: как «Кронверкские...</td>\n",
       "      <td>https://news.itmo.ru/ru/university_live/social...</td>\n",
       "      <td>2024-10-11T10:02:50+03:00</td>\n",
       "      <td>…Содержание\\r\\n\\r\\n\\r\\n\\tКраткаяисторияклуба\\r...</td>\n",
       "      <td>Пять раз побеждали во всероссийском конкурсе «...</td>\n",
       "      <td>https://news.itmo.ru/ru/university_live/social...</td>\n",
       "    </tr>\n",
       "    <tr>\n",
       "      <th>4</th>\n",
       "      <td>История</td>\n",
       "      <td>Виртуальные электростанции, но реальное электр...</td>\n",
       "      <td>https://news.itmo.ru/ru/science/cyberphysics/n...</td>\n",
       "      <td>2024-10-08T11:01:13+03:00</td>\n",
       "      <td>…ается в науку. Еще лучше, если вам удалось по...</td>\n",
       "      <td>Джексон Джон Джусто приехал в Петербург из Тан...</td>\n",
       "      <td>https://news.itmo.ru/ru/science/cyberphysics/n...</td>\n",
       "    </tr>\n",
       "    <tr>\n",
       "      <th>...</th>\n",
       "      <td>...</td>\n",
       "      <td>...</td>\n",
       "      <td>...</td>\n",
       "      <td>...</td>\n",
       "      <td>...</td>\n",
       "      <td>...</td>\n",
       "      <td>...</td>\n",
       "    </tr>\n",
       "    <tr>\n",
       "      <th>782</th>\n",
       "      <td>Проректор</td>\n",
       "      <td>Нейросеть для учителя: как эффективно использо...</td>\n",
       "      <td>https://news.itmo.ru/ru/education/trend/news/1...</td>\n",
       "      <td>2024-09-04T17:20:13+03:00</td>\n",
       "      <td>…Искусственный интеллект» ИТМО Д…</td>\n",
       "      <td>Искусственный интеллект ― далеко не просто «иг...</td>\n",
       "      <td>https://news.itmo.ru/ru/education/trend/news/1...</td>\n",
       "    </tr>\n",
       "    <tr>\n",
       "      <th>783</th>\n",
       "      <td>Проректор</td>\n",
       "      <td>ITMO CONF 2024: этика, бизнес и образование в ...</td>\n",
       "      <td>https://news.itmo.ru/ru/education/trend/news/1...</td>\n",
       "      <td>2024-09-02T20:25:49+03:00</td>\n",
       "      <td>…ИТМО — это ИИ\\r\\n\\r\\nНа открытии конференции ...</td>\n",
       "      <td>В этом году главной темой ITMO CONF стал тезис...</td>\n",
       "      <td>https://news.itmo.ru/ru/education/trend/news/1...</td>\n",
       "    </tr>\n",
       "    <tr>\n",
       "      <th>784</th>\n",
       "      <td>Проректор</td>\n",
       "      <td>В ИТМО Хайпарке построят комплекс для фиджитал...</td>\n",
       "      <td>https://news.itmo.ru/ru/startups_and_business/...</td>\n",
       "      <td>2024-06-03T15:22:29+03:00</td>\n",
       "      <td>…бразовательные программы и методические реком...</td>\n",
       "      <td>Представители образования и городской админист...</td>\n",
       "      <td>https://news.itmo.ru/ru/startups_and_business/...</td>\n",
       "    </tr>\n",
       "    <tr>\n",
       "      <th>785</th>\n",
       "      <td>Проректор</td>\n",
       "      <td>Поменялись местами: зачем деканы ИТМО неделю р...</td>\n",
       "      <td>https://news.itmo.ru/ru/education/official/new...</td>\n",
       "      <td>2024-05-13T09:30:00+03:00</td>\n",
       "      <td>…цессами Студофиса, в университете провели экс...</td>\n",
       "      <td>В ИТМО студентам не нужно бегать по инстанциям...</td>\n",
       "      <td>https://news.itmo.ru/ru/education/official/new...</td>\n",
       "    </tr>\n",
       "    <tr>\n",
       "      <th>786</th>\n",
       "      <td>Проректор</td>\n",
       "      <td>ИТМО получил 5 млн рублей на развитие студенче...</td>\n",
       "      <td>https://news.itmo.ru/ru/university_live/achiev...</td>\n",
       "      <td>2024-05-08T11:32:19+03:00</td>\n",
       "      <td>…ждый год помогает более 1500 студентам трудоу...</td>\n",
       "      <td>ИТМО\\nпобедил\\nв Конкурсе студенческих научных...</td>\n",
       "      <td>https://news.itmo.ru/ru/university_live/achiev...</td>\n",
       "    </tr>\n",
       "  </tbody>\n",
       "</table>\n",
       "<p>787 rows × 7 columns</p>\n",
       "</div>"
      ],
      "text/plain": [
       "         Query                                              Title  \\\n",
       "0      История  «Можно быть прикольным ученым, а не скучным за...   \n",
       "1      История  «Инклюзия — логичная эволюция дизайна»: какие ...   \n",
       "2      История  Не только сфинксы и Эрмитаж: в Петербурге выбр...   \n",
       "3      История  Никакой скучной физкультуры: как «Кронверкские...   \n",
       "4      История  Виртуальные электростанции, но реальное электр...   \n",
       "..         ...                                                ...   \n",
       "782  Проректор  Нейросеть для учителя: как эффективно использо...   \n",
       "783  Проректор  ITMO CONF 2024: этика, бизнес и образование в ...   \n",
       "784  Проректор  В ИТМО Хайпарке построят комплекс для фиджитал...   \n",
       "785  Проректор  Поменялись местами: зачем деканы ИТМО неделю р...   \n",
       "786  Проректор  ИТМО получил 5 млн рублей на развитие студенче...   \n",
       "\n",
       "                                                   url  \\\n",
       "0    https://news.itmo.ru/ru/science/photonics/news...   \n",
       "1    https://news.itmo.ru/ru/education/trend/news/1...   \n",
       "2    https://news.itmo.ru/ru/education/cooperation/...   \n",
       "3    https://news.itmo.ru/ru/university_live/social...   \n",
       "4    https://news.itmo.ru/ru/science/cyberphysics/n...   \n",
       "..                                                 ...   \n",
       "782  https://news.itmo.ru/ru/education/trend/news/1...   \n",
       "783  https://news.itmo.ru/ru/education/trend/news/1...   \n",
       "784  https://news.itmo.ru/ru/startups_and_business/...   \n",
       "785  https://news.itmo.ru/ru/education/official/new...   \n",
       "786  https://news.itmo.ru/ru/university_live/achiev...   \n",
       "\n",
       "                          Date  \\\n",
       "0    2025-01-15T13:17:31+03:00   \n",
       "1    2024-11-22T16:01:53+03:00   \n",
       "2    2024-10-31T10:00:10+03:00   \n",
       "3    2024-10-11T10:02:50+03:00   \n",
       "4    2024-10-08T11:01:13+03:00   \n",
       "..                         ...   \n",
       "782  2024-09-04T17:20:13+03:00   \n",
       "783  2024-09-02T20:25:49+03:00   \n",
       "784  2024-06-03T15:22:29+03:00   \n",
       "785  2024-05-13T09:30:00+03:00   \n",
       "786  2024-05-08T11:32:19+03:00   \n",
       "\n",
       "                                          Snippet/desc  \\\n",
       "0    …й в пиджаке.\\r\\n\\r\\n― И как вы решили идти к ...   \n",
       "1    …ь на будущем месте работы», — подчеркнул выпу...   \n",
       "2    …о сфинксами, Исаакиевским собором и Бродским ...   \n",
       "3    …Содержание\\r\\n\\r\\n\\r\\n\\tКраткаяисторияклуба\\r...   \n",
       "4    …ается в науку. Еще лучше, если вам удалось по...   \n",
       "..                                                 ...   \n",
       "782                  …Искусственный интеллект» ИТМО Д…   \n",
       "783  …ИТМО — это ИИ\\r\\n\\r\\nНа открытии конференции ...   \n",
       "784  …бразовательные программы и методические реком...   \n",
       "785  …цессами Студофиса, в университете провели экс...   \n",
       "786  …ждый год помогает более 1500 студентам трудоу...   \n",
       "\n",
       "                                               content  \\\n",
       "0    В школе Алексей Кохановский прочитал автобиогр...   \n",
       "1    Как сегодня создаются отечественные цифровые с...   \n",
       "2    В Петербурге подвели итоги проектной школы по ...   \n",
       "3    Пять раз побеждали во всероссийском конкурсе «...   \n",
       "4    Джексон Джон Джусто приехал в Петербург из Тан...   \n",
       "..                                                 ...   \n",
       "782  Искусственный интеллект ― далеко не просто «иг...   \n",
       "783  В этом году главной темой ITMO CONF стал тезис...   \n",
       "784  Представители образования и городской админист...   \n",
       "785  В ИТМО студентам не нужно бегать по инстанциям...   \n",
       "786  ИТМО\\nпобедил\\nв Конкурсе студенческих научных...   \n",
       "\n",
       "                                                source  \n",
       "0    https://news.itmo.ru/ru/science/photonics/news...  \n",
       "1    https://news.itmo.ru/ru/education/trend/news/1...  \n",
       "2    https://news.itmo.ru/ru/education/cooperation/...  \n",
       "3    https://news.itmo.ru/ru/university_live/social...  \n",
       "4    https://news.itmo.ru/ru/science/cyberphysics/n...  \n",
       "..                                                 ...  \n",
       "782  https://news.itmo.ru/ru/education/trend/news/1...  \n",
       "783  https://news.itmo.ru/ru/education/trend/news/1...  \n",
       "784  https://news.itmo.ru/ru/startups_and_business/...  \n",
       "785  https://news.itmo.ru/ru/education/official/new...  \n",
       "786  https://news.itmo.ru/ru/university_live/achiev...  \n",
       "\n",
       "[787 rows x 7 columns]"
      ]
     },
     "execution_count": 70,
     "metadata": {},
     "output_type": "execute_result"
    }
   ],
   "source": [
    "pd.read_csv('../data/processed/texts.csv')"
   ]
  },
  {
   "cell_type": "code",
   "execution_count": null,
   "metadata": {},
   "outputs": [],
   "source": []
  }
 ],
 "metadata": {
  "kernelspec": {
   "display_name": "base",
   "language": "python",
   "name": "python3"
  },
  "language_info": {
   "codemirror_mode": {
    "name": "ipython",
    "version": 3
   },
   "file_extension": ".py",
   "mimetype": "text/x-python",
   "name": "python",
   "nbconvert_exporter": "python",
   "pygments_lexer": "ipython3",
   "version": "3.12.2"
  }
 },
 "nbformat": 4,
 "nbformat_minor": 2
}
