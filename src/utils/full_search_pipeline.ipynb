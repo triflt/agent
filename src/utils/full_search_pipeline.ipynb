{
 "cells": [
  {
   "cell_type": "code",
   "execution_count": null,
   "metadata": {},
   "outputs": [],
   "source": [
    "import re\n",
    "import requests\n",
    "from bs4 import BeautifulSoup, Tag\n",
    "import csv\n",
    "import sys\n",
    "from tqdm import tqdm\n",
    "import warnings\n",
    "from requests.packages.urllib3.exceptions import InsecureRequestWarning\n",
    "from datetime import datetime\n",
    "from typing import List, Optional\n",
    "from pydantic import BaseModel, Field, HttpUrl\n",
    "\n",
    "# Ignore only the InsecureRequestWarning\n",
    "warnings.simplefilter(\"ignore\", InsecureRequestWarning)\n",
    "\n",
    "class SearchResult(BaseModel):\n",
    "    \"\"\"\n",
    "    Individual search result from ITMO news/pages\n",
    "    \"\"\"\n",
    "    title: str\n",
    "    url: HttpUrl\n",
    "    description: Optional[str] = None\n",
    "    date: Optional[datetime] = None\n",
    "    content: Optional[str] = None\n",
    "\n",
    "class SearchResponse(BaseModel):\n",
    "    \"\"\"\n",
    "    Complete search response\n",
    "    \"\"\"\n",
    "    query: str\n",
    "    total_results: int\n",
    "    results: List[SearchResult]\n",
    "    search_time: datetime = Field(default_factory=datetime.now)\n",
    "\n",
    "def clean_article_content(content_block: Tag) -> str:\n",
    "    \"\"\"\n",
    "    Remove unnecessary elements and prepare text:\n",
    "      - Remove <script> and <style>\n",
    "      - Convert non-breaking spaces (\\xa0) to regular spaces\n",
    "      - Collapse multiple spaces/newlines\n",
    "    \"\"\"\n",
    "    # 1. Remove <script> and <style> tags\n",
    "    for unwanted_tag in content_block([\"script\", \"style\"]):\n",
    "        unwanted_tag.decompose()\n",
    "\n",
    "    # 2. Extract text\n",
    "    text = content_block.get_text(separator=\"\\n\", strip=True)\n",
    "\n",
    "    # 3. Remove non-breaking spaces\n",
    "    text = text.replace(\"\\xa0\", \" \")\n",
    "\n",
    "    # 4. Collapse multiple newlines and extra spaces\n",
    "    text = re.sub(r\"\\n\\s*\\n+\", \"\\n\\n\", text)\n",
    "    text = re.sub(r\" {2,}\", \" \", text)\n",
    "\n",
    "    # 5. Final strip\n",
    "    text = text.strip()\n",
    "    return text\n",
    "\n",
    "def parse_itmo_article_page(html_content: str) -> dict:\n",
    "    \"\"\"\n",
    "    Extracts data from a single ITMO article page:\n",
    "      - title\n",
    "      - publication_datetime (e.g. 2025-01-22T11:48:35+03:00)\n",
    "      - views\n",
    "      - authors (list of strings)\n",
    "      - tags (list of strings)\n",
    "      - cleaned article_text\n",
    "    \"\"\"\n",
    "    soup = BeautifulSoup(html_content, \"html.parser\")\n",
    "    \n",
    "    # Title\n",
    "    title_tag = soup.select_one(\"div.article h1\")\n",
    "    title = title_tag.get_text(strip=True) if title_tag else None\n",
    "\n",
    "    # Date/time in time[datetime], e.g. 2025-01-22T11:48:35+03:00\n",
    "    time_tag = soup.select_one(\"div.news-info-wrapper time\")\n",
    "    publication_datetime_str = time_tag.get(\"datetime\", \"\").strip() if time_tag else None\n",
    "    publication_datetime = None\n",
    "    if publication_datetime_str:\n",
    "        # Try to parse as an ISO datetime\n",
    "        # If you need more robust parsing, install/use dateutil.parser.parse(...)\n",
    "        try:\n",
    "            publication_datetime = datetime.fromisoformat(publication_datetime_str)\n",
    "        except ValueError:\n",
    "            # fallback if the format is not strictly ISO or can't be parsed\n",
    "            publication_datetime = None\n",
    "\n",
    "    # Views (example: <span class=\"icon eye\">1049</span>)\n",
    "    views_span = time_tag.select_one(\"span.icon.eye\") if time_tag else None\n",
    "    views = views_span.get_text(strip=True) if views_span else None\n",
    "\n",
    "    # Authors\n",
    "    authors = []\n",
    "    for author_block in soup.select(\".author-block .author-item\"):\n",
    "        name_tag = author_block.select_one(\".about h6 a[rel='author']\")\n",
    "        if name_tag:\n",
    "            authors.append(name_tag.get_text(strip=True))\n",
    "\n",
    "    # Tags\n",
    "    tags = []\n",
    "    for tag_item in soup.select(\"ul.tags li a\"):\n",
    "        tags.append(tag_item.get_text(strip=True))\n",
    "\n",
    "    # Main article text\n",
    "    article_block = soup.select_one(\".content.js-mediator-article\")\n",
    "    article_text = clean_article_content(article_block) if article_block else \"\"\n",
    "\n",
    "    return {\n",
    "        \"title\": title,\n",
    "        \"publication_datetime\": publication_datetime,\n",
    "        \"views\": views,\n",
    "        \"authors\": authors,\n",
    "        \"tags\": tags,\n",
    "        \"article_text\": article_text\n",
    "    }\n",
    "\n",
    "\n",
    "def parse_itmo_search_page(html_content: str):\n",
    "    \"\"\"\n",
    "    Parses the main ITMO search result page, returning:\n",
    "      - total_results (string or integer)\n",
    "      - articles: list of {title, link, snippet, date (string)}\n",
    "    \"\"\"\n",
    "    soup = BeautifulSoup(html_content, \"html.parser\")\n",
    "\n",
    "    # Find total results (e.g. \"152 результата\")\n",
    "    total_results_str = None\n",
    "    h2_element = soup.select_one(\".weeklyevents h2 span\")\n",
    "    if h2_element:\n",
    "        total_results_str = h2_element.get_text(strip=True)\n",
    "\n",
    "    # Convert e.g. \"152 результата\" -> 152 (if possible)\n",
    "    total_results = 0\n",
    "    if total_results_str:\n",
    "        # Use regex to extract digits\n",
    "        match = re.search(r\"(\\d+)\", total_results_str)\n",
    "        if match:\n",
    "            total_results = int(match.group(1))\n",
    "\n",
    "    # Parse each result (li.weeklyevent)\n",
    "    results = []\n",
    "    for item in soup.select(\".weeklyevents ul li.weeklyevent\"):\n",
    "        h4 = item.find(\"h4\")\n",
    "        if not h4 or not h4.find(\"a\"):\n",
    "            continue\n",
    "\n",
    "        # Title & Link\n",
    "        title_tag = h4.find(\"a\")\n",
    "        title = title_tag.get_text(strip=True)\n",
    "        link = title_tag[\"href\"]\n",
    "        if link.startswith(\"/\"):\n",
    "            link = \"https://news.itmo.ru\" + link\n",
    "\n",
    "        # paragraphs typically contain snippet & date\n",
    "        paragraphs = item.find_all(\"p\")\n",
    "        snippet = paragraphs[0].get_text(strip=True) if len(paragraphs) > 0 else None\n",
    "        date_str = paragraphs[-1].get_text(strip=True) if len(paragraphs) > 1 else None\n",
    "\n",
    "        results.append({\n",
    "            \"title\": title,\n",
    "            \"link\": link,\n",
    "            \"snippet\": snippet,\n",
    "            \"date\": date_str  # date as string for now\n",
    "        })\n",
    "\n",
    "    return {\n",
    "        \"total_results\": total_results,\n",
    "        \"articles\": results\n",
    "    }\n",
    "\n",
    "def get_search_results(\n",
    "    query: str,\n",
    "    max_articles: int = 5\n",
    ") -> SearchResponse:\n",
    "    \"\"\"\n",
    "    High-level function that:\n",
    "      - Searches ITMO news for `query`\n",
    "      - Parses search results\n",
    "      - Fetches each article's content\n",
    "      - Returns a Pydantic SearchResponse\n",
    "    \"\"\"\n",
    "    # Build the search URL\n",
    "    base_url = \"https://news.itmo.ru/ru/search/\"\n",
    "    params = {\"search\": query}\n",
    "\n",
    "    # 1. Fetch the search page\n",
    "    response = requests.get(base_url, params=params, verify=False)\n",
    "    response.raise_for_status()\n",
    "\n",
    "    # 2. Parse the search page\n",
    "    search_data = parse_itmo_search_page(response.text)\n",
    "    total_found = search_data[\"total_results\"]\n",
    "    raw_articles = search_data[\"articles\"]\n",
    "\n",
    "    # 3. For each article (up to max_articles), parse additional data\n",
    "    results_list = []\n",
    "    for article_info in raw_articles[:max_articles]:\n",
    "        url = article_info[\"link\"]\n",
    "        snippet = article_info[\"snippet\"]\n",
    "        date_str = article_info[\"date\"]\n",
    "\n",
    "        # 3a. Fetch & parse the article page\n",
    "        article_resp = requests.get(url, verify=False)\n",
    "        article_resp.raise_for_status()\n",
    "        article_data = parse_itmo_article_page(article_resp.text)\n",
    "\n",
    "        # 3b. Build a Pydantic SearchResult\n",
    "        # We'll use the parse_itmo_article_page date if it's valid,\n",
    "        # otherwise fallback to the date from the search snippet.\n",
    "        final_date = article_data[\"publication_datetime\"]\n",
    "\n",
    "        # If parse_itmo_article_page could not parse any date/time, optionally try\n",
    "        # to parse `date_str` from the snippet. This might be \"22.01.2025\" or similar.\n",
    "        # For demonstration, we'll do a simple attempt:\n",
    "        if not final_date and date_str:\n",
    "            # Attempt a naive parse of \"DD.MM.YYYY\" \n",
    "            match = re.search(r\"(\\d{2}\\.\\d{2}\\.\\d{4})\", date_str)\n",
    "            if match:\n",
    "                try:\n",
    "                    final_date = datetime.strptime(match.group(1), \"%d.%m.%Y\")\n",
    "                except ValueError:\n",
    "                    final_date = None\n",
    "\n",
    "        # Construct the SearchResult\n",
    "        search_result = SearchResult(\n",
    "            title=article_data[\"title\"] or article_info[\"title\"],\n",
    "            url=url,\n",
    "            description=snippet,\n",
    "            date=final_date,\n",
    "            content=article_data[\"article_text\"]\n",
    "        )\n",
    "        results_list.append(search_result)\n",
    "\n",
    "    # 4. Build & return our SearchResponse\n",
    "    return SearchResponse(\n",
    "        query=query,\n",
    "        total_results=total_found,\n",
    "        results=results_list\n",
    "    )\n",
    "\n",
    "if __name__ == \"__main__\":\n",
    "    # Example usage\n",
    "    from pprint import pprint\n",
    "\n",
    "    query = \"yandex\"\n",
    "    max_articles = 2  # parse first 3 articles in detail\n",
    "    search_response = get_search_results(query, max_articles)\n",
    "\n",
    "    # Print out the resulting data\n",
    "    # Because it's a Pydantic model, we can do .dict() or .json() too\n",
    "    print(\"--- SEARCH RESPONSE (dict) ---\")\n",
    "    pprint(search_response.dict())\n",
    "    \n",
    "    # Or just show each result nicely\n",
    "    print(\"\\n--- HUMAN-READABLE OUTPUT ---\")\n",
    "    print(f\"Query: {search_response.query}\")\n",
    "    print(f\"Total found: {search_response.total_results}\")\n",
    "    for idx, result in enumerate(search_response.results, 1):\n",
    "        print(f\"\\nResult {idx}:\")\n",
    "        print(f\"  Title: {result.title}\")\n",
    "        print(f\"  URL:   {result.url}\")\n",
    "        print(f\"  Date:  {result.date}\")\n",
    "        print(f\"  Snippet/desc: {result.description}\")\n",
    "        # Show first 200 chars of content\n",
    "        if result.content:\n",
    "            print(f\"  Content (truncated): {result.content[:200]}...\")\n",
    "        else:\n",
    "            print(\"  Content: [empty]\")"
   ]
  },
  {
   "cell_type": "code",
   "execution_count": null,
   "metadata": {},
   "outputs": [],
   "source": [
    "import re\n",
    "import requests\n",
    "from bs4 import BeautifulSoup, Tag\n",
    "import csv\n",
    "import sys\n",
    "from tqdm import tqdm\n",
    "import warnings\n",
    "from requests.packages.urllib3.exceptions import InsecureRequestWarning\n",
    "from datetime import datetime\n",
    "from typing import List, Optional\n",
    "from pydantic import BaseModel, Field, HttpUrl\n",
    "\n",
    "# Ignore only the InsecureRequestWarning\n",
    "warnings.simplefilter(\"ignore\", InsecureRequestWarning)\n",
    "\n",
    "class SearchResult(BaseModel):\n",
    "    \"\"\"\n",
    "    Individual search result from ITMO news/pages\n",
    "    \"\"\"\n",
    "    title: str\n",
    "    url: HttpUrl\n",
    "    description: Optional[str] = None\n",
    "    date: Optional[datetime] = None\n",
    "    content: Optional[str] = None\n",
    "\n",
    "class SearchResponse(BaseModel):\n",
    "    \"\"\"\n",
    "    Complete search response\n",
    "    \"\"\"\n",
    "    query: str\n",
    "    total_results: int\n",
    "    results: List[SearchResult]\n",
    "    search_time: datetime = Field(default_factory=datetime.now)\n",
    "\n",
    "def clean_article_content(content_block: Tag) -> str:\n",
    "    \"\"\"\n",
    "    Remove unnecessary elements and prepare text:\n",
    "      - Remove <script> and <style>\n",
    "      - Convert non-breaking spaces (\\xa0) to regular spaces\n",
    "      - Collapse multiple spaces/newlines\n",
    "    \"\"\"\n",
    "    # 1. Remove <script> and <style> tags\n",
    "    for unwanted_tag in content_block([\"script\", \"style\"]):\n",
    "        unwanted_tag.decompose()\n",
    "\n",
    "    # 2. Extract text\n",
    "    text = content_block.get_text(separator=\"\\n\", strip=True)\n",
    "\n",
    "    # 3. Remove non-breaking spaces\n",
    "    text = text.replace(\"\\xa0\", \" \")\n",
    "\n",
    "    # 4. Collapse multiple newlines and extra spaces\n",
    "    text = re.sub(r\"\\n\\s*\\n+\", \"\\n\\n\", text)\n",
    "    text = re.sub(r\" {2,}\", \" \", text)\n",
    "\n",
    "    # 5. Final strip\n",
    "    text = text.strip()\n",
    "    return text\n",
    "\n",
    "def parse_itmo_article_page(html_content: str) -> dict:\n",
    "    \"\"\"\n",
    "    Extracts data from a single ITMO article page:\n",
    "      - title\n",
    "      - publication_datetime (e.g. 2025-01-22T11:48:35+03:00)\n",
    "      - views\n",
    "      - authors (list of strings)\n",
    "      - tags (list of strings)\n",
    "      - cleaned article_text\n",
    "    \"\"\"\n",
    "    soup = BeautifulSoup(html_content, \"html.parser\")\n",
    "    \n",
    "    # Title\n",
    "    title_tag = soup.select_one(\"div.article h1\")\n",
    "    title = title_tag.get_text(strip=True) if title_tag else None\n",
    "\n",
    "    # Date/time in time[datetime], e.g. 2025-01-22T11:48:35+03:00\n",
    "    time_tag = soup.select_one(\"div.news-info-wrapper time\")\n",
    "    publication_datetime_str = time_tag.get(\"datetime\", \"\").strip() if time_tag else None\n",
    "    publication_datetime = None\n",
    "    if publication_datetime_str:\n",
    "        try:\n",
    "            publication_datetime = datetime.fromisoformat(publication_datetime_str)\n",
    "        except ValueError:\n",
    "            publication_datetime = None\n",
    "\n",
    "    # Views (example: <span class=\"icon eye\">1049</span>)\n",
    "    views_span = time_tag.select_one(\"span.icon.eye\") if time_tag else None\n",
    "    views = views_span.get_text(strip=True) if views_span else None\n",
    "\n",
    "    # Authors\n",
    "    authors = []\n",
    "    for author_block in soup.select(\".author-block .author-item\"):\n",
    "        name_tag = author_block.select_one(\".about h6 a[rel='author']\")\n",
    "        if name_tag:\n",
    "            authors.append(name_tag.get_text(strip=True))\n",
    "\n",
    "    # Tags\n",
    "    tags = []\n",
    "    for tag_item in soup.select(\"ul.tags li a\"):\n",
    "        tags.append(tag_item.get_text(strip=True))\n",
    "\n",
    "    # Main article text\n",
    "    article_block = soup.select_one(\".content.js-mediator-article\")\n",
    "    article_text = clean_article_content(article_block) if article_block else \"\"\n",
    "\n",
    "    return {\n",
    "        \"title\": title,\n",
    "        \"publication_datetime\": publication_datetime,\n",
    "        \"views\": views,\n",
    "        \"authors\": authors,\n",
    "        \"tags\": tags,\n",
    "        \"article_text\": article_text\n",
    "    }\n",
    "\n",
    "def parse_itmo_search_page(html_content: str):\n",
    "    \"\"\"\n",
    "    Parses the main ITMO search result page, returning:\n",
    "      - total_results (integer)\n",
    "      - articles: list of {title, link, snippet, date (string)}\n",
    "    \"\"\"\n",
    "    soup = BeautifulSoup(html_content, \"html.parser\")\n",
    "\n",
    "    # Find total results (e.g. \"152 результата\")\n",
    "    total_results_str = None\n",
    "    h2_element = soup.select_one(\".weeklyevents h2 span\")\n",
    "    if h2_element:\n",
    "        total_results_str = h2_element.get_text(strip=True)\n",
    "\n",
    "    # Convert e.g. \"152 результата\" -> 152 (if possible)\n",
    "    total_results = 0\n",
    "    if total_results_str:\n",
    "        match = re.search(r\"(\\d+)\", total_results_str)\n",
    "        if match:\n",
    "            total_results = int(match.group(1))\n",
    "\n",
    "    # Parse each result (li.weeklyevent)\n",
    "    results = []\n",
    "    for item in soup.select(\".weeklyevents ul li.weeklyevent\"):\n",
    "        h4 = item.find(\"h4\")\n",
    "        if not h4 or not h4.find(\"a\"):\n",
    "            continue\n",
    "\n",
    "        # Title & Link\n",
    "        title_tag = h4.find(\"a\")\n",
    "        title = title_tag.get_text(strip=True)\n",
    "        link = title_tag[\"href\"]\n",
    "        if link.startswith(\"/\"):\n",
    "            link = \"https://news.itmo.ru\" + link\n",
    "\n",
    "        # paragraphs typically contain snippet & date\n",
    "        paragraphs = item.find_all(\"p\")\n",
    "        snippet = paragraphs[0].get_text(strip=True) if len(paragraphs) > 0 else None\n",
    "        date_str = paragraphs[-1].get_text(strip=True) if len(paragraphs) > 1 else None\n",
    "\n",
    "        results.append({\n",
    "            \"title\": title,\n",
    "            \"link\": link,\n",
    "            \"snippet\": snippet,\n",
    "            \"date\": date_str  # date as string for now\n",
    "        })\n",
    "\n",
    "    return {\n",
    "        \"total_results\": total_results,\n",
    "        \"articles\": results\n",
    "    }\n",
    "\n",
    "def get_search_results(\n",
    "    query: str,\n",
    "    max_articles: int = 5,\n",
    "    max_pages: int = 1\n",
    ") -> SearchResponse:\n",
    "    \"\"\"\n",
    "    High-level function that:\n",
    "      - Searches ITMO news for `query`\n",
    "      - Parses multiple pages if max_pages > 1\n",
    "      - Collects search results across pages\n",
    "      - Fetches each article's content (up to max_articles total)\n",
    "      - Returns a Pydantic SearchResponse\n",
    "    \"\"\"\n",
    "    base_url = \"https://news.itmo.ru/ru/search/\"\n",
    "    all_articles = []\n",
    "    total_found = 0\n",
    "\n",
    "    for page_num in range(1, max_pages + 1):\n",
    "        params = {\n",
    "            \"search\": query,\n",
    "            \"page\": page_num,\n",
    "            \"section\": \"news\"  # важный параметр, учитывая пример ссылок\n",
    "        }\n",
    "\n",
    "        response = requests.get(base_url, params=params, verify=False)\n",
    "        response.raise_for_status()\n",
    "\n",
    "        search_data = parse_itmo_search_page(response.text)\n",
    "        \n",
    "        if page_num == 1:\n",
    "            total_found = search_data[\"total_results\"]\n",
    "\n",
    "        # Добавляем все статьи с текущей страницы\n",
    "        all_articles.extend(search_data[\"articles\"])\n",
    "\n",
    "        # Если статей на странице нет — прерываем цикл (больше страниц нет)\n",
    "        if not search_data[\"articles\"]:\n",
    "            break\n",
    "\n",
    "    # Обрезаем список статей, если хотим получить не более max_articles\n",
    "    articles_to_fetch = all_articles[:max_articles]\n",
    "\n",
    "    results_list = []\n",
    "    for article_info in articles_to_fetch:\n",
    "        url = article_info[\"link\"]\n",
    "        snippet = article_info[\"snippet\"]\n",
    "        date_str = article_info[\"date\"]\n",
    "\n",
    "        article_resp = requests.get(url, verify=False)\n",
    "        article_resp.raise_for_status()\n",
    "        article_data = parse_itmo_article_page(article_resp.text)\n",
    "\n",
    "        final_date = article_data[\"publication_datetime\"]\n",
    "\n",
    "        # Если не удалось вытащить ISO-дату, пробуем распарсить date_str\n",
    "        if not final_date and date_str:\n",
    "            match = re.search(r\"(\\d{2}\\.\\d{2}\\.\\d{4})\", date_str)\n",
    "            if match:\n",
    "                try:\n",
    "                    final_date = datetime.strptime(match.group(1), \"%d.%m.%Y\")\n",
    "                except ValueError:\n",
    "                    final_date = None\n",
    "\n",
    "        search_result = SearchResult(\n",
    "            title=article_data[\"title\"] or article_info[\"title\"],\n",
    "            url=url,\n",
    "            description=snippet,\n",
    "            date=final_date,\n",
    "            content=article_data[\"article_text\"]\n",
    "        )\n",
    "        results_list.append(search_result)\n",
    "\n",
    "    return SearchResponse(\n",
    "        query=query,\n",
    "        total_results=total_found,\n",
    "        results=results_list\n",
    "    )"
   ]
  },
  {
   "cell_type": "code",
   "execution_count": 45,
   "metadata": {},
   "outputs": [
    {
     "name": "stderr",
     "output_type": "stream",
     "text": [
      "  1%|          | 1/176 [00:08<24:55,  8.55s/it]"
     ]
    },
    {
     "name": "stdout",
     "output_type": "stream",
     "text": [
      "\n",
      "=== Query: История (Found: 441) ===\n"
     ]
    },
    {
     "name": "stderr",
     "output_type": "stream",
     "text": [
      "  1%|          | 2/176 [00:17<24:54,  8.59s/it]"
     ]
    },
    {
     "name": "stdout",
     "output_type": "stream",
     "text": [
      "\n",
      "=== Query: Основание (Found: 64) ===\n"
     ]
    },
    {
     "name": "stderr",
     "output_type": "stream",
     "text": [
      "  2%|▏         | 3/176 [00:25<24:45,  8.59s/it]"
     ]
    },
    {
     "name": "stdout",
     "output_type": "stream",
     "text": [
      "\n",
      "=== Query: Рейтинг (Found: 758) ===\n"
     ]
    },
    {
     "name": "stderr",
     "output_type": "stream",
     "text": [
      "  2%|▏         | 4/176 [00:26<16:12,  5.65s/it]"
     ]
    },
    {
     "name": "stdout",
     "output_type": "stream",
     "text": [
      "\n",
      "=== Query: Титулы (Found: 0) ===\n"
     ]
    },
    {
     "name": "stderr",
     "output_type": "stream",
     "text": [
      "  3%|▎         | 5/176 [00:35<18:54,  6.63s/it]"
     ]
    },
    {
     "name": "stdout",
     "output_type": "stream",
     "text": [
      "\n",
      "=== Query: Миссия (Found: 294) ===\n"
     ]
    },
    {
     "name": "stderr",
     "output_type": "stream",
     "text": [
      "  3%|▎         | 6/176 [00:44<21:01,  7.42s/it]"
     ]
    },
    {
     "name": "stdout",
     "output_type": "stream",
     "text": [
      "\n",
      "=== Query: Наука (Found: 905) ===\n"
     ]
    },
    {
     "name": "stderr",
     "output_type": "stream",
     "text": [
      "  4%|▍         | 7/176 [00:52<21:31,  7.64s/it]"
     ]
    },
    {
     "name": "stdout",
     "output_type": "stream",
     "text": [
      "\n",
      "=== Query: Исследования (Found: 2386) ===\n"
     ]
    },
    {
     "name": "stderr",
     "output_type": "stream",
     "text": [
      "  5%|▍         | 8/176 [01:01<22:19,  7.97s/it]"
     ]
    },
    {
     "name": "stdout",
     "output_type": "stream",
     "text": [
      "\n",
      "=== Query: Гранты (Found: 242) ===\n"
     ]
    },
    {
     "name": "stderr",
     "output_type": "stream",
     "text": [
      "  5%|▌         | 9/176 [01:09<22:20,  8.03s/it]"
     ]
    },
    {
     "name": "stdout",
     "output_type": "stream",
     "text": [
      "\n",
      "=== Query: Лаборатории (Found: 1708) ===\n"
     ]
    },
    {
     "name": "stderr",
     "output_type": "stream",
     "text": [
      "  6%|▌         | 10/176 [01:17<22:31,  8.14s/it]"
     ]
    },
    {
     "name": "stdout",
     "output_type": "stream",
     "text": [
      "\n",
      "=== Query: Публикации (Found: 348) ===\n"
     ]
    },
    {
     "name": "stderr",
     "output_type": "stream",
     "text": [
      "  6%|▋         | 11/176 [01:25<22:36,  8.22s/it]"
     ]
    },
    {
     "name": "stdout",
     "output_type": "stream",
     "text": [
      "\n",
      "=== Query: Поступление (Found: 188) ===\n"
     ]
    },
    {
     "name": "stderr",
     "output_type": "stream",
     "text": [
      "  7%|▋         | 12/176 [01:33<22:08,  8.10s/it]"
     ]
    },
    {
     "name": "stdout",
     "output_type": "stream",
     "text": [
      "\n",
      "=== Query: Проходной балл (Found: 28) ===\n"
     ]
    },
    {
     "name": "stderr",
     "output_type": "stream",
     "text": [
      "  7%|▋         | 13/176 [01:42<22:38,  8.33s/it]"
     ]
    },
    {
     "name": "stdout",
     "output_type": "stream",
     "text": [
      "\n",
      "=== Query: Приёмная (Found: 80) ===\n"
     ]
    },
    {
     "name": "stderr",
     "output_type": "stream",
     "text": [
      "  8%|▊         | 14/176 [01:50<22:23,  8.29s/it]"
     ]
    },
    {
     "name": "stdout",
     "output_type": "stream",
     "text": [
      "\n",
      "=== Query: ЕГЭ (Found: 245) ===\n"
     ]
    },
    {
     "name": "stderr",
     "output_type": "stream",
     "text": [
      "  9%|▊         | 15/176 [01:58<21:53,  8.16s/it]"
     ]
    },
    {
     "name": "stdout",
     "output_type": "stream",
     "text": [
      "\n",
      "=== Query: Бюджет (Found: 482) ===\n"
     ]
    },
    {
     "name": "stderr",
     "output_type": "stream",
     "text": [
      "  9%|▉         | 16/176 [02:06<21:36,  8.11s/it]"
     ]
    },
    {
     "name": "stdout",
     "output_type": "stream",
     "text": [
      "\n",
      "=== Query: Контракт (Found: 206) ===\n"
     ]
    },
    {
     "name": "stderr",
     "output_type": "stream",
     "text": [
      " 10%|▉         | 17/176 [02:15<22:06,  8.34s/it]"
     ]
    },
    {
     "name": "stdout",
     "output_type": "stream",
     "text": [
      "\n",
      "=== Query: Льготы (Found: 65) ===\n"
     ]
    },
    {
     "name": "stderr",
     "output_type": "stream",
     "text": [
      " 10%|█         | 18/176 [02:26<24:14,  9.21s/it]"
     ]
    },
    {
     "name": "stdout",
     "output_type": "stream",
     "text": [
      "\n",
      "=== Query: Целевая (Found: 52) ===\n"
     ]
    },
    {
     "name": "stderr",
     "output_type": "stream",
     "text": [
      " 11%|█         | 19/176 [02:35<23:40,  9.04s/it]"
     ]
    },
    {
     "name": "stdout",
     "output_type": "stream",
     "text": [
      "\n",
      "=== Query: Олимпиады (Found: 433) ===\n"
     ]
    },
    {
     "name": "stderr",
     "output_type": "stream",
     "text": [
      " 11%|█▏        | 20/176 [02:44<23:13,  8.93s/it]"
     ]
    },
    {
     "name": "stdout",
     "output_type": "stream",
     "text": [
      "\n",
      "=== Query: Права (Found: 216) ===\n"
     ]
    },
    {
     "name": "stderr",
     "output_type": "stream",
     "text": [
      " 12%|█▏        | 21/176 [02:45<16:53,  6.54s/it]"
     ]
    },
    {
     "name": "stdout",
     "output_type": "stream",
     "text": [
      "\n",
      "=== Query: ФакультетСтипендии (Found: 0) ===\n"
     ]
    },
    {
     "name": "stderr",
     "output_type": "stream",
     "text": [
      " 12%|█▎        | 22/176 [02:52<17:15,  6.72s/it]"
     ]
    },
    {
     "name": "stdout",
     "output_type": "stream",
     "text": [
      "\n",
      "=== Query: Повышенная (Found: 24) ===\n"
     ]
    },
    {
     "name": "stderr",
     "output_type": "stream",
     "text": [
      " 13%|█▎        | 23/176 [02:53<12:55,  5.07s/it]"
     ]
    },
    {
     "name": "stdout",
     "output_type": "stream",
     "text": [
      "\n",
      "=== Query: Соцстипендия (Found: 0) ===\n"
     ]
    },
    {
     "name": "stderr",
     "output_type": "stream",
     "text": [
      " 14%|█▎        | 24/176 [02:54<09:50,  3.88s/it]"
     ]
    },
    {
     "name": "stdout",
     "output_type": "stream",
     "text": [
      "\n",
      "=== Query: Студгранты (Found: 0) ===\n"
     ]
    },
    {
     "name": "stderr",
     "output_type": "stream",
     "text": [
      " 14%|█▍        | 25/176 [03:03<13:18,  5.29s/it]"
     ]
    },
    {
     "name": "stdout",
     "output_type": "stream",
     "text": [
      "\n",
      "=== Query: Поддержка (Found: 333) ===\n"
     ]
    },
    {
     "name": "stderr",
     "output_type": "stream",
     "text": [
      " 15%|█▍        | 26/176 [03:05<11:21,  4.54s/it]"
     ]
    },
    {
     "name": "stdout",
     "output_type": "stream",
     "text": [
      "\n",
      "=== Query: Спонсорство (Found: 2) ===\n"
     ]
    },
    {
     "name": "stderr",
     "output_type": "stream",
     "text": [
      " 15%|█▌        | 27/176 [03:09<10:33,  4.25s/it]"
     ]
    },
    {
     "name": "stdout",
     "output_type": "stream",
     "text": [
      "\n",
      "=== Query: Президентская (Found: 7) ===\n"
     ]
    },
    {
     "name": "stderr",
     "output_type": "stream",
     "text": [
      " 16%|█▌        | 28/176 [03:17<13:21,  5.41s/it]"
     ]
    },
    {
     "name": "stdout",
     "output_type": "stream",
     "text": [
      "\n",
      "=== Query: Международные (Found: 393) ===\n"
     ]
    },
    {
     "name": "stderr",
     "output_type": "stream",
     "text": [
      " 16%|█▋        | 29/176 [03:25<15:18,  6.25s/it]"
     ]
    },
    {
     "name": "stdout",
     "output_type": "stream",
     "text": [
      "\n",
      "=== Query: Конкурсы (Found: 190) ===\n"
     ]
    },
    {
     "name": "stderr",
     "output_type": "stream",
     "text": [
      " 17%|█▋        | 30/176 [03:33<16:34,  6.81s/it]"
     ]
    },
    {
     "name": "stdout",
     "output_type": "stream",
     "text": [
      "\n",
      "=== Query: Заявка (Found: 134) ===\n"
     ]
    },
    {
     "name": "stderr",
     "output_type": "stream",
     "text": [
      " 18%|█▊        | 31/176 [03:42<17:58,  7.44s/it]"
     ]
    },
    {
     "name": "stdout",
     "output_type": "stream",
     "text": [
      "\n",
      "=== Query: Магистратура (Found: 216) ===\n"
     ]
    },
    {
     "name": "stderr",
     "output_type": "stream",
     "text": [
      " 18%|█▊        | 32/176 [03:51<18:55,  7.89s/it]"
     ]
    },
    {
     "name": "stdout",
     "output_type": "stream",
     "text": [
      "\n",
      "=== Query: Аспирантура (Found: 62) ===\n"
     ]
    },
    {
     "name": "stderr",
     "output_type": "stream",
     "text": [
      " 19%|█▉        | 33/176 [03:53<14:43,  6.18s/it]"
     ]
    },
    {
     "name": "stdout",
     "output_type": "stream",
     "text": [
      "\n",
      "=== Query: Докторантура (Found: 1) ===\n"
     ]
    },
    {
     "name": "stderr",
     "output_type": "stream",
     "text": [
      " 19%|█▉        | 34/176 [04:02<16:03,  6.78s/it]"
     ]
    },
    {
     "name": "stdout",
     "output_type": "stream",
     "text": [
      "\n",
      "=== Query: Бакалавриат (Found: 771) ===\n"
     ]
    },
    {
     "name": "stderr",
     "output_type": "stream",
     "text": [
      " 20%|█▉        | 35/176 [04:10<16:59,  7.23s/it]"
     ]
    },
    {
     "name": "stdout",
     "output_type": "stream",
     "text": [
      "\n",
      "=== Query: Направления (Found: 1807) ===\n"
     ]
    },
    {
     "name": "stderr",
     "output_type": "stream",
     "text": [
      " 20%|██        | 36/176 [04:18<17:48,  7.63s/it]"
     ]
    },
    {
     "name": "stdout",
     "output_type": "stream",
     "text": [
      "\n",
      "=== Query: Специальности (Found: 358) ===\n"
     ]
    },
    {
     "name": "stderr",
     "output_type": "stream",
     "text": [
      " 21%|██        | 37/176 [04:19<13:04,  5.64s/it]"
     ]
    },
    {
     "name": "stdout",
     "output_type": "stream",
     "text": [
      "\n",
      "=== Query: Учплан (Found: 0) ===\n"
     ]
    },
    {
     "name": "stderr",
     "output_type": "stream",
     "text": [
      " 22%|██▏       | 38/176 [04:28<14:53,  6.48s/it]"
     ]
    },
    {
     "name": "stdout",
     "output_type": "stream",
     "text": [
      "\n",
      "=== Query: Модули (Found: 132) ===\n"
     ]
    },
    {
     "name": "stderr",
     "output_type": "stream",
     "text": [
      " 22%|██▏       | 39/176 [04:29<11:00,  4.82s/it]"
     ]
    },
    {
     "name": "stdout",
     "output_type": "stream",
     "text": [
      "\n",
      "=== Query: Заочка (Found: 0) ===\n"
     ]
    },
    {
     "name": "stderr",
     "output_type": "stream",
     "text": [
      " 23%|██▎       | 40/176 [04:31<09:07,  4.03s/it]"
     ]
    },
    {
     "name": "stdout",
     "output_type": "stream",
     "text": [
      "\n",
      "=== Query: Дистанционка (Found: 1) ===\n"
     ]
    },
    {
     "name": "stderr",
     "output_type": "stream",
     "text": [
      " 23%|██▎       | 41/176 [04:32<07:04,  3.15s/it]"
     ]
    },
    {
     "name": "stdout",
     "output_type": "stream",
     "text": [
      "\n",
      "=== Query: НовостиОнлайн-курсы (Found: 0) ===\n"
     ]
    },
    {
     "name": "stderr",
     "output_type": "stream",
     "text": [
      " 24%|██▍       | 42/176 [04:34<06:23,  2.86s/it]"
     ]
    },
    {
     "name": "stdout",
     "output_type": "stream",
     "text": [
      "\n",
      "=== Query: Допобразование (Found: 1) ===\n"
     ]
    },
    {
     "name": "stderr",
     "output_type": "stream",
     "text": [
      " 24%|██▍       | 43/176 [04:41<08:56,  4.03s/it]"
     ]
    },
    {
     "name": "stdout",
     "output_type": "stream",
     "text": [
      "\n",
      "=== Query: Квалификация (Found: 22) ===\n"
     ]
    },
    {
     "name": "stderr",
     "output_type": "stream",
     "text": [
      " 25%|██▌       | 44/176 [04:43<07:46,  3.53s/it]"
     ]
    },
    {
     "name": "stdout",
     "output_type": "stream",
     "text": [
      "\n",
      "=== Query: Профпереподг (Found: 2) ===\n"
     ]
    },
    {
     "name": "stderr",
     "output_type": "stream",
     "text": [
      " 26%|██▌       | 45/176 [04:51<10:28,  4.80s/it]"
     ]
    },
    {
     "name": "stdout",
     "output_type": "stream",
     "text": [
      "\n",
      "=== Query: Семинары (Found: 227) ===\n"
     ]
    },
    {
     "name": "stderr",
     "output_type": "stream",
     "text": [
      " 26%|██▌       | 46/176 [04:59<12:31,  5.78s/it]"
     ]
    },
    {
     "name": "stdout",
     "output_type": "stream",
     "text": [
      "\n",
      "=== Query: Летние школы (Found: 50) ===\n"
     ]
    },
    {
     "name": "stderr",
     "output_type": "stream",
     "text": [
      " 27%|██▋       | 47/176 [05:06<13:14,  6.16s/it]"
     ]
    },
    {
     "name": "stdout",
     "output_type": "stream",
     "text": [
      "\n",
      "=== Query: Зимние школы (Found: 26) ===\n"
     ]
    },
    {
     "name": "stderr",
     "output_type": "stream",
     "text": [
      " 27%|██▋       | 48/176 [05:10<11:16,  5.28s/it]"
     ]
    },
    {
     "name": "stdout",
     "output_type": "stream",
     "text": [
      "\n",
      "=== Query: Вечерние (Found: 7) ===\n"
     ]
    },
    {
     "name": "stderr",
     "output_type": "stream",
     "text": [
      " 28%|██▊       | 49/176 [05:12<09:18,  4.40s/it]"
     ]
    },
    {
     "name": "stdout",
     "output_type": "stream",
     "text": [
      "\n",
      "=== Query: Курсы IT (Found: 2) ===\n"
     ]
    },
    {
     "name": "stderr",
     "output_type": "stream",
     "text": [
      " 28%|██▊       | 50/176 [05:20<11:29,  5.47s/it]"
     ]
    },
    {
     "name": "stdout",
     "output_type": "stream",
     "text": [
      "\n",
      "=== Query: Компетенции (Found: 463) ===\n"
     ]
    },
    {
     "name": "stderr",
     "output_type": "stream",
     "text": [
      " 29%|██▉       | 51/176 [05:29<13:23,  6.42s/it]"
     ]
    },
    {
     "name": "stdout",
     "output_type": "stream",
     "text": [
      "\n",
      "=== Query: Партнёры (Found: 329) ===\n"
     ]
    },
    {
     "name": "stderr",
     "output_type": "stream",
     "text": [
      " 30%|██▉       | 52/176 [05:37<14:50,  7.18s/it]"
     ]
    },
    {
     "name": "stdout",
     "output_type": "stream",
     "text": [
      "\n",
      "=== Query: Обмен (Found: 926) ===\n"
     ]
    },
    {
     "name": "stderr",
     "output_type": "stream",
     "text": [
      " 30%|███       | 53/176 [05:41<12:11,  5.95s/it]"
     ]
    },
    {
     "name": "stdout",
     "output_type": "stream",
     "text": [
      "\n",
      "=== Query: Двойной диплом (Found: 5) ===\n"
     ]
    },
    {
     "name": "stderr",
     "output_type": "stream",
     "text": [
      " 31%|███       | 54/176 [05:44<10:22,  5.10s/it]"
     ]
    },
    {
     "name": "stdout",
     "output_type": "stream",
     "text": [
      "\n",
      "=== Query: Зарубежная (Found: 6) ===\n"
     ]
    },
    {
     "name": "stderr",
     "output_type": "stream",
     "text": [
      " 31%|███▏      | 55/176 [05:45<07:53,  3.91s/it]"
     ]
    },
    {
     "name": "stdout",
     "output_type": "stream",
     "text": [
      "\n",
      "=== Query: Академмобильность (Found: 0) ===\n"
     ]
    },
    {
     "name": "stderr",
     "output_type": "stream",
     "text": [
      " 32%|███▏      | 56/176 [05:53<10:40,  5.34s/it]"
     ]
    },
    {
     "name": "stdout",
     "output_type": "stream",
     "text": [
      "\n",
      "=== Query: Erasmus+ (Found: 53) ===\n"
     ]
    },
    {
     "name": "stderr",
     "output_type": "stream",
     "text": [
      " 32%|███▏      | 57/176 [06:02<12:46,  6.44s/it]"
     ]
    },
    {
     "name": "stdout",
     "output_type": "stream",
     "text": [
      "\n",
      "=== Query: Иностранцы (Found: 34) ===\n"
     ]
    },
    {
     "name": "stderr",
     "output_type": "stream",
     "text": [
      " 33%|███▎      | 58/176 [06:04<09:34,  4.87s/it]"
     ]
    },
    {
     "name": "stdout",
     "output_type": "stream",
     "text": [
      "\n",
      "=== Query: Англопрограммы (Found: 0) ===\n"
     ]
    },
    {
     "name": "stderr",
     "output_type": "stream",
     "text": [
      " 34%|███▎      | 59/176 [06:06<08:13,  4.22s/it]"
     ]
    },
    {
     "name": "stdout",
     "output_type": "stream",
     "text": [
      "\n",
      "=== Query: World rankings (Found: 3) ===\n"
     ]
    },
    {
     "name": "stderr",
     "output_type": "stream",
     "text": [
      " 34%|███▍      | 60/176 [06:15<10:33,  5.46s/it]"
     ]
    },
    {
     "name": "stdout",
     "output_type": "stream",
     "text": [
      "\n",
      "=== Query: Спорт (Found: 1649) ===\n"
     ]
    },
    {
     "name": "stderr",
     "output_type": "stream",
     "text": [
      " 35%|███▍      | 61/176 [06:18<09:23,  4.90s/it]"
     ]
    },
    {
     "name": "stdout",
     "output_type": "stream",
     "text": [
      "\n",
      "=== Query: Студсовет (Found: 8) ===\n"
     ]
    },
    {
     "name": "stderr",
     "output_type": "stream",
     "text": [
      " 35%|███▌      | 62/176 [06:27<11:15,  5.92s/it]"
     ]
    },
    {
     "name": "stdout",
     "output_type": "stream",
     "text": [
      "\n",
      "=== Query: Клубы (Found: 69) ===\n"
     ]
    },
    {
     "name": "stderr",
     "output_type": "stream",
     "text": [
      " 36%|███▌      | 63/176 [06:28<08:25,  4.47s/it]"
     ]
    },
    {
     "name": "stdout",
     "output_type": "stream",
     "text": [
      "\n",
      "=== Query: Научные кружки (Found: 0) ===\n"
     ]
    },
    {
     "name": "stderr",
     "output_type": "stream",
     "text": [
      " 36%|███▋      | 64/176 [06:36<10:32,  5.65s/it]"
     ]
    },
    {
     "name": "stdout",
     "output_type": "stream",
     "text": [
      "\n",
      "=== Query: Волонтёры (Found: 83) ===\n"
     ]
    },
    {
     "name": "stderr",
     "output_type": "stream",
     "text": [
      " 37%|███▋      | 65/176 [06:37<07:55,  4.28s/it]"
     ]
    },
    {
     "name": "stdout",
     "output_type": "stream",
     "text": [
      "\n",
      "=== Query: Студжизнь (Found: 0) ===\n"
     ]
    },
    {
     "name": "stderr",
     "output_type": "stream",
     "text": [
      " 38%|███▊      | 66/176 [06:45<09:59,  5.45s/it]"
     ]
    },
    {
     "name": "stdout",
     "output_type": "stream",
     "text": [
      "\n",
      "=== Query: Хакатоны (Found: 59) ===\n"
     ]
    },
    {
     "name": "stderr",
     "output_type": "stream",
     "text": [
      " 38%|███▊      | 67/176 [06:54<11:37,  6.40s/it]"
     ]
    },
    {
     "name": "stdout",
     "output_type": "stream",
     "text": [
      "\n",
      "=== Query: Проекты (Found: 1725) ===\n"
     ]
    },
    {
     "name": "stderr",
     "output_type": "stream",
     "text": [
      " 39%|███▊      | 68/176 [07:03<12:46,  7.10s/it]"
     ]
    },
    {
     "name": "stdout",
     "output_type": "stream",
     "text": [
      "\n",
      "=== Query: Конференции (Found: 1014) ===\n"
     ]
    },
    {
     "name": "stderr",
     "output_type": "stream",
     "text": [
      " 39%|███▉      | 69/176 [07:11<13:25,  7.53s/it]"
     ]
    },
    {
     "name": "stdout",
     "output_type": "stream",
     "text": [
      "\n",
      "=== Query: Стажировки (Found: 377) ===\n"
     ]
    },
    {
     "name": "stderr",
     "output_type": "stream",
     "text": [
      " 40%|███▉      | 70/176 [07:20<13:48,  7.82s/it]"
     ]
    },
    {
     "name": "stdout",
     "output_type": "stream",
     "text": [
      "\n",
      "=== Query: Аудитории (Found: 525) ===\n"
     ]
    },
    {
     "name": "stderr",
     "output_type": "stream",
     "text": [
      " 40%|████      | 71/176 [07:28<13:52,  7.92s/it]"
     ]
    },
    {
     "name": "stdout",
     "output_type": "stream",
     "text": [
      "\n",
      "=== Query: Корпуса (Found: 226) ===\n"
     ]
    },
    {
     "name": "stderr",
     "output_type": "stream",
     "text": [
      " 41%|████      | 72/176 [07:37<14:04,  8.12s/it]"
     ]
    },
    {
     "name": "stdout",
     "output_type": "stream",
     "text": [
      "\n",
      "=== Query: Общежитие (Found: 53) ===\n"
     ]
    },
    {
     "name": "stderr",
     "output_type": "stream",
     "text": [
      " 41%|████▏     | 73/176 [07:45<14:05,  8.21s/it]"
     ]
    },
    {
     "name": "stdout",
     "output_type": "stream",
     "text": [
      "\n",
      "=== Query: Проживание (Found: 101) ===\n"
     ]
    },
    {
     "name": "stderr",
     "output_type": "stream",
     "text": [
      " 42%|████▏     | 74/176 [07:46<10:18,  6.06s/it]"
     ]
    },
    {
     "name": "stdout",
     "output_type": "stream",
     "text": [
      "\n",
      "=== Query: Матбаза (Found: 0) ===\n"
     ]
    },
    {
     "name": "stderr",
     "output_type": "stream",
     "text": [
      " 43%|████▎     | 75/176 [07:54<11:22,  6.76s/it]"
     ]
    },
    {
     "name": "stdout",
     "output_type": "stream",
     "text": [
      "\n",
      "=== Query: Коворкинги (Found: 31) ===\n"
     ]
    },
    {
     "name": "stderr",
     "output_type": "stream",
     "text": [
      " 43%|████▎     | 76/176 [08:02<11:52,  7.13s/it]"
     ]
    },
    {
     "name": "stdout",
     "output_type": "stream",
     "text": [
      "\n",
      "=== Query: Библиотека (Found: 113) ===\n"
     ]
    },
    {
     "name": "stderr",
     "output_type": "stream",
     "text": [
      " 44%|████▍     | 77/176 [08:11<12:22,  7.50s/it]"
     ]
    },
    {
     "name": "stdout",
     "output_type": "stream",
     "text": [
      "\n",
      "=== Query: Электронная (Found: 80) ===\n"
     ]
    },
    {
     "name": "stderr",
     "output_type": "stream",
     "text": [
      " 44%|████▍     | 78/176 [08:12<09:06,  5.57s/it]"
     ]
    },
    {
     "name": "stdout",
     "output_type": "stream",
     "text": [
      "\n",
      "=== Query: Инфоресурсы (Found: 0) ===\n"
     ]
    },
    {
     "name": "stderr",
     "output_type": "stream",
     "text": [
      " 45%|████▍     | 79/176 [08:13<06:46,  4.19s/it]"
     ]
    },
    {
     "name": "stdout",
     "output_type": "stream",
     "text": [
      "\n",
      "=== Query: Кампус-тур (Found: 0) ===\n"
     ]
    },
    {
     "name": "stderr",
     "output_type": "stream",
     "text": [
      " 45%|████▌     | 80/176 [08:21<08:39,  5.42s/it]"
     ]
    },
    {
     "name": "stdout",
     "output_type": "stream",
     "text": [
      "\n",
      "=== Query: Адрес (Found: 541) ===\n"
     ]
    },
    {
     "name": "stderr",
     "output_type": "stream",
     "text": [
      " 46%|████▌     | 81/176 [08:29<09:50,  6.22s/it]"
     ]
    },
    {
     "name": "stdout",
     "output_type": "stream",
     "text": [
      "\n",
      "=== Query: Транспорт (Found: 646) ===\n"
     ]
    },
    {
     "name": "stderr",
     "output_type": "stream",
     "text": [
      " 47%|████▋     | 82/176 [08:37<10:40,  6.81s/it]"
     ]
    },
    {
     "name": "stdout",
     "output_type": "stream",
     "text": [
      "\n",
      "=== Query: Правила (Found: 581) ===\n"
     ]
    },
    {
     "name": "stderr",
     "output_type": "stream",
     "text": [
      " 47%|████▋     | 83/176 [08:38<07:54,  5.10s/it]"
     ]
    },
    {
     "name": "stdout",
     "output_type": "stream",
     "text": [
      "\n",
      "=== Query: Академотпуск (Found: 0) ===\n"
     ]
    },
    {
     "name": "stderr",
     "output_type": "stream",
     "text": [
      " 48%|████▊     | 84/176 [08:46<09:06,  5.94s/it]"
     ]
    },
    {
     "name": "stdout",
     "output_type": "stream",
     "text": [
      "\n",
      "=== Query: Перевод (Found: 375) ===\n"
     ]
    },
    {
     "name": "stderr",
     "output_type": "stream",
     "text": [
      " 48%|████▊     | 85/176 [08:55<10:02,  6.62s/it]"
     ]
    },
    {
     "name": "stdout",
     "output_type": "stream",
     "text": [
      "\n",
      "=== Query: Регламент (Found: 129) ===\n"
     ]
    },
    {
     "name": "stderr",
     "output_type": "stream",
     "text": [
      " 49%|████▉     | 86/176 [09:02<10:27,  6.98s/it]"
     ]
    },
    {
     "name": "stdout",
     "output_type": "stream",
     "text": [
      "\n",
      "=== Query: Экзамены (Found: 156) ===\n"
     ]
    },
    {
     "name": "stderr",
     "output_type": "stream",
     "text": [
      " 49%|████▉     | 87/176 [09:05<08:28,  5.71s/it]"
     ]
    },
    {
     "name": "stdout",
     "output_type": "stream",
     "text": [
      "\n",
      "=== Query: Апелляция (Found: 4) ===\n"
     ]
    },
    {
     "name": "stderr",
     "output_type": "stream",
     "text": [
      " 50%|█████     | 88/176 [09:06<06:16,  4.27s/it]"
     ]
    },
    {
     "name": "stdout",
     "output_type": "stream",
     "text": [
      "\n",
      "=== Query: Э-расписание (Found: 0) ===\n"
     ]
    },
    {
     "name": "stderr",
     "output_type": "stream",
     "text": [
      " 51%|█████     | 89/176 [09:14<07:44,  5.33s/it]"
     ]
    },
    {
     "name": "stdout",
     "output_type": "stream",
     "text": [
      "\n",
      "=== Query: Выпускники (Found: 638) ===\n"
     ]
    },
    {
     "name": "stderr",
     "output_type": "stream",
     "text": [
      " 51%|█████     | 90/176 [09:22<08:49,  6.15s/it]"
     ]
    },
    {
     "name": "stdout",
     "output_type": "stream",
     "text": [
      "\n",
      "=== Query: Вакансии (Found: 77) ===\n"
     ]
    },
    {
     "name": "stderr",
     "output_type": "stream",
     "text": [
      " 52%|█████▏    | 91/176 [09:30<09:44,  6.88s/it]"
     ]
    },
    {
     "name": "stdout",
     "output_type": "stream",
     "text": [
      "\n",
      "=== Query: Трудоустройство (Found: 66) ===\n"
     ]
    },
    {
     "name": "stderr",
     "output_type": "stream",
     "text": [
      " 52%|█████▏    | 92/176 [09:38<09:57,  7.11s/it]"
     ]
    },
    {
     "name": "stdout",
     "output_type": "stream",
     "text": [
      "\n",
      "=== Query: Компании (Found: 2005) ===\n"
     ]
    },
    {
     "name": "stderr",
     "output_type": "stream",
     "text": [
      " 53%|█████▎    | 93/176 [09:39<07:17,  5.28s/it]"
     ]
    },
    {
     "name": "stdout",
     "output_type": "stream",
     "text": [
      "\n",
      "=== Query: Карьерный центр (Found: 0) ===\n"
     ]
    },
    {
     "name": "stderr",
     "output_type": "stream",
     "text": [
      " 53%|█████▎    | 94/176 [09:47<08:20,  6.10s/it]"
     ]
    },
    {
     "name": "stdout",
     "output_type": "stream",
     "text": [
      "\n",
      "=== Query: Стартап (Found: 1000) ===\n"
     ]
    },
    {
     "name": "stderr",
     "output_type": "stream",
     "text": [
      " 54%|█████▍    | 95/176 [09:55<09:03,  6.72s/it]"
     ]
    },
    {
     "name": "stdout",
     "output_type": "stream",
     "text": [
      "\n",
      "=== Query: Акселератор (Found: 449) ===\n"
     ]
    },
    {
     "name": "stderr",
     "output_type": "stream",
     "text": [
      " 55%|█████▍    | 96/176 [10:03<09:18,  6.98s/it]"
     ]
    },
    {
     "name": "stdout",
     "output_type": "stream",
     "text": [
      "\n",
      "=== Query: Предприниматель (Found: 810) ===\n"
     ]
    },
    {
     "name": "stderr",
     "output_type": "stream",
     "text": [
      " 55%|█████▌    | 97/176 [10:11<09:46,  7.42s/it]"
     ]
    },
    {
     "name": "stdout",
     "output_type": "stream",
     "text": [
      "\n",
      "=== Query: Инноватика (Found: 44) ===\n"
     ]
    },
    {
     "name": "stderr",
     "output_type": "stream",
     "text": [
      " 56%|█████▌    | 98/176 [10:19<09:55,  7.63s/it]"
     ]
    },
    {
     "name": "stdout",
     "output_type": "stream",
     "text": [
      "\n",
      "=== Query: Выдающиеся (Found: 66) ===\n"
     ]
    },
    {
     "name": "stderr",
     "output_type": "stream",
     "text": [
      " 56%|█████▋    | 99/176 [10:28<10:04,  7.85s/it]"
     ]
    },
    {
     "name": "stdout",
     "output_type": "stream",
     "text": [
      "\n",
      "=== Query: Известные (Found: 213) ===\n"
     ]
    },
    {
     "name": "stderr",
     "output_type": "stream",
     "text": [
      " 57%|█████▋    | 100/176 [10:29<07:20,  5.79s/it]"
     ]
    },
    {
     "name": "stdout",
     "output_type": "stream",
     "text": [
      "\n",
      "=== Query: МеждународныеИскуственный интеллект (Found: 0) ===\n"
     ]
    },
    {
     "name": "stderr",
     "output_type": "stream",
     "text": [
      " 57%|█████▋    | 101/176 [10:34<07:00,  5.61s/it]"
     ]
    },
    {
     "name": "stdout",
     "output_type": "stream",
     "text": [
      "\n",
      "=== Query: Talent Hub (Found: 13) ===\n",
      "\n",
      "=== Query: AI (Found: 0) ===\n"
     ]
    },
    {
     "name": "stderr",
     "output_type": "stream",
     "text": [
      " 59%|█████▊    | 103/176 [10:41<05:42,  4.69s/it]"
     ]
    },
    {
     "name": "stdout",
     "output_type": "stream",
     "text": [
      "\n",
      "=== Query: ITMO (Found: 3046) ===\n"
     ]
    },
    {
     "name": "stderr",
     "output_type": "stream",
     "text": [
      " 59%|█████▉    | 104/176 [10:48<06:06,  5.09s/it]"
     ]
    },
    {
     "name": "stdout",
     "output_type": "stream",
     "text": [
      "\n",
      "=== Query: ИТМО (Found: 6970) ===\n"
     ]
    },
    {
     "name": "stderr",
     "output_type": "stream",
     "text": [
      " 60%|█████▉    | 105/176 [10:55<06:46,  5.73s/it]"
     ]
    },
    {
     "name": "stdout",
     "output_type": "stream",
     "text": [
      "\n",
      "=== Query: Ректор (Found: 2685) ===\n"
     ]
    },
    {
     "name": "stderr",
     "output_type": "stream",
     "text": [
      " 60%|██████    | 106/176 [11:02<07:12,  6.18s/it]"
     ]
    },
    {
     "name": "stdout",
     "output_type": "stream",
     "text": [
      "\n",
      "=== Query: Деканат (Found: 28) ===\n"
     ]
    },
    {
     "name": "stderr",
     "output_type": "stream",
     "text": [
      " 61%|██████    | 107/176 [11:11<07:43,  6.72s/it]"
     ]
    },
    {
     "name": "stdout",
     "output_type": "stream",
     "text": [
      "\n",
      "=== Query: Кафедра (Found: 311) ===\n"
     ]
    },
    {
     "name": "stderr",
     "output_type": "stream",
     "text": [
      " 61%|██████▏   | 108/176 [11:16<07:21,  6.49s/it]"
     ]
    },
    {
     "name": "stdout",
     "output_type": "stream",
     "text": [
      "\n",
      "=== Query: Учёный совет (Found: 17) ===\n"
     ]
    },
    {
     "name": "stderr",
     "output_type": "stream",
     "text": [
      " 62%|██████▏   | 109/176 [11:25<07:48,  6.99s/it]"
     ]
    },
    {
     "name": "stdout",
     "output_type": "stream",
     "text": [
      "\n",
      "=== Query: Администрация (Found: 109) ===\n"
     ]
    },
    {
     "name": "stderr",
     "output_type": "stream",
     "text": [
      " 62%|██████▎   | 110/176 [11:33<08:06,  7.37s/it]"
     ]
    },
    {
     "name": "stdout",
     "output_type": "stream",
     "text": [
      "\n",
      "=== Query: Документы (Found: 332) ===\n"
     ]
    },
    {
     "name": "stderr",
     "output_type": "stream",
     "text": [
      " 63%|██████▎   | 111/176 [11:41<08:20,  7.69s/it]"
     ]
    },
    {
     "name": "stdout",
     "output_type": "stream",
     "text": [
      "\n",
      "=== Query: Сессия (Found: 175) ===\n"
     ]
    },
    {
     "name": "stderr",
     "output_type": "stream",
     "text": [
      " 64%|██████▎   | 112/176 [11:49<08:00,  7.50s/it]"
     ]
    },
    {
     "name": "stdout",
     "output_type": "stream",
     "text": [
      "\n",
      "=== Query: Зачёты (Found: 23) ===\n"
     ]
    },
    {
     "name": "stderr",
     "output_type": "stream",
     "text": [
      " 64%|██████▍   | 113/176 [11:57<08:05,  7.71s/it]"
     ]
    },
    {
     "name": "stdout",
     "output_type": "stream",
     "text": [
      "\n",
      "=== Query: Диплом (Found: 879) ===\n"
     ]
    },
    {
     "name": "stderr",
     "output_type": "stream",
     "text": [
      " 65%|██████▍   | 114/176 [12:05<08:01,  7.77s/it]"
     ]
    },
    {
     "name": "stdout",
     "output_type": "stream",
     "text": [
      "\n",
      "=== Query: Практика (Found: 510) ===\n"
     ]
    },
    {
     "name": "stderr",
     "output_type": "stream",
     "text": [
      " 65%|██████▌   | 115/176 [12:13<08:04,  7.94s/it]"
     ]
    },
    {
     "name": "stdout",
     "output_type": "stream",
     "text": [
      "\n",
      "=== Query: Семестр (Found: 446) ===\n"
     ]
    },
    {
     "name": "stderr",
     "output_type": "stream",
     "text": [
      " 66%|██████▌   | 116/176 [12:16<06:33,  6.56s/it]"
     ]
    },
    {
     "name": "stdout",
     "output_type": "stream",
     "text": [
      "\n",
      "=== Query: Методички (Found: 7) ===\n"
     ]
    },
    {
     "name": "stderr",
     "output_type": "stream",
     "text": [
      " 66%|██████▋   | 117/176 [12:24<06:54,  7.03s/it]"
     ]
    },
    {
     "name": "stdout",
     "output_type": "stream",
     "text": [
      "\n",
      "=== Query: Учебники (Found: 41) ===\n"
     ]
    },
    {
     "name": "stderr",
     "output_type": "stream",
     "text": [
      " 67%|██████▋   | 118/176 [12:32<07:04,  7.31s/it]"
     ]
    },
    {
     "name": "stdout",
     "output_type": "stream",
     "text": [
      "\n",
      "=== Query: Лекции (Found: 1109) ===\n"
     ]
    },
    {
     "name": "stderr",
     "output_type": "stream",
     "text": [
      " 68%|██████▊   | 119/176 [12:41<07:13,  7.60s/it]"
     ]
    },
    {
     "name": "stdout",
     "output_type": "stream",
     "text": [
      "\n",
      "=== Query: Семинары (Found: 227) ===\n"
     ]
    },
    {
     "name": "stderr",
     "output_type": "stream",
     "text": [
      " 68%|██████▊   | 120/176 [12:49<07:14,  7.76s/it]"
     ]
    },
    {
     "name": "stdout",
     "output_type": "stream",
     "text": [
      "\n",
      "=== Query: Лабораторные (Found: 103) ===\n"
     ]
    },
    {
     "name": "stderr",
     "output_type": "stream",
     "text": [
      " 69%|██████▉   | 121/176 [12:57<07:07,  7.78s/it]"
     ]
    },
    {
     "name": "stdout",
     "output_type": "stream",
     "text": [
      "\n",
      "=== Query: Профком (Found: 45) ===\n"
     ]
    },
    {
     "name": "stderr",
     "output_type": "stream",
     "text": [
      " 69%|██████▉   | 122/176 [12:59<05:34,  6.19s/it]"
     ]
    },
    {
     "name": "stdout",
     "output_type": "stream",
     "text": [
      "\n",
      "=== Query: Общага (Found: 1) ===\n"
     ]
    },
    {
     "name": "stderr",
     "output_type": "stream",
     "text": [
      " 70%|██████▉   | 123/176 [13:05<05:30,  6.24s/it]"
     ]
    },
    {
     "name": "stdout",
     "output_type": "stream",
     "text": [
      "\n",
      "=== Query: Столовая (Found: 19) ===\n"
     ]
    },
    {
     "name": "stderr",
     "output_type": "stream",
     "text": [
      " 70%|███████   | 124/176 [13:09<04:35,  5.29s/it]"
     ]
    },
    {
     "name": "stdout",
     "output_type": "stream",
     "text": [
      "\n",
      "=== Query: Медпункт (Found: 6) ===\n"
     ]
    },
    {
     "name": "stderr",
     "output_type": "stream",
     "text": [
      " 71%|███████   | 125/176 [13:17<05:12,  6.12s/it]"
     ]
    },
    {
     "name": "stdout",
     "output_type": "stream",
     "text": [
      "\n",
      "=== Query: Спортзал (Found: 35) ===\n"
     ]
    },
    {
     "name": "stderr",
     "output_type": "stream",
     "text": [
      " 72%|███████▏  | 126/176 [13:25<05:38,  6.78s/it]"
     ]
    },
    {
     "name": "stdout",
     "output_type": "stream",
     "text": [
      "\n",
      "=== Query: Творчество (Found: 121) ===\n"
     ]
    },
    {
     "name": "stderr",
     "output_type": "stream",
     "text": [
      " 72%|███████▏  | 127/176 [13:33<05:45,  7.04s/it]"
     ]
    },
    {
     "name": "stdout",
     "output_type": "stream",
     "text": [
      "\n",
      "=== Query: Мероприятия (Found: 1474) ===\n"
     ]
    },
    {
     "name": "stderr",
     "output_type": "stream",
     "text": [
      " 73%|███████▎  | 128/176 [13:41<05:53,  7.37s/it]"
     ]
    },
    {
     "name": "stdout",
     "output_type": "stream",
     "text": [
      "\n",
      "=== Query: Концерты (Found: 33) ===\n"
     ]
    },
    {
     "name": "stderr",
     "output_type": "stream",
     "text": [
      " 73%|███████▎  | 129/176 [13:49<05:57,  7.61s/it]"
     ]
    },
    {
     "name": "stdout",
     "output_type": "stream",
     "text": [
      "\n",
      "=== Query: Фестивали (Found: 59) ===\n"
     ]
    },
    {
     "name": "stderr",
     "output_type": "stream",
     "text": [
      " 74%|███████▍  | 130/176 [13:57<05:58,  7.80s/it]"
     ]
    },
    {
     "name": "stdout",
     "output_type": "stream",
     "text": [
      "\n",
      "=== Query: Конкурсы (Found: 190) ===\n"
     ]
    },
    {
     "name": "stderr",
     "output_type": "stream",
     "text": [
      " 74%|███████▍  | 131/176 [14:05<05:55,  7.91s/it]"
     ]
    },
    {
     "name": "stdout",
     "output_type": "stream",
     "text": [
      "\n",
      "=== Query: Робототехника (Found: 247) ===\n"
     ]
    },
    {
     "name": "stderr",
     "output_type": "stream",
     "text": [
      " 75%|███████▌  | 132/176 [14:13<05:46,  7.87s/it]"
     ]
    },
    {
     "name": "stdout",
     "output_type": "stream",
     "text": [
      "\n",
      "=== Query: Программирование (Found: 431) ===\n"
     ]
    },
    {
     "name": "stderr",
     "output_type": "stream",
     "text": [
      " 76%|███████▌  | 133/176 [14:21<05:35,  7.81s/it]"
     ]
    },
    {
     "name": "stdout",
     "output_type": "stream",
     "text": [
      "\n",
      "=== Query: Биотехнологии (Found: 254) ===\n"
     ]
    },
    {
     "name": "stderr",
     "output_type": "stream",
     "text": [
      " 76%|███████▌  | 134/176 [14:29<05:34,  7.97s/it]"
     ]
    },
    {
     "name": "stdout",
     "output_type": "stream",
     "text": [
      "\n",
      "=== Query: Нанотехнологии (Found: 106) ===\n"
     ]
    },
    {
     "name": "stderr",
     "output_type": "stream",
     "text": [
      " 77%|███████▋  | 135/176 [14:37<05:26,  7.97s/it]"
     ]
    },
    {
     "name": "stdout",
     "output_type": "stream",
     "text": [
      "\n",
      "=== Query: Квантовые технологии (Found: 43) ===\n"
     ]
    },
    {
     "name": "stderr",
     "output_type": "stream",
     "text": [
      " 77%|███████▋  | 136/176 [14:45<05:17,  7.94s/it]"
     ]
    },
    {
     "name": "stdout",
     "output_type": "stream",
     "text": [
      "\n",
      "=== Query: Машинное обучение (Found: 205) ===\n"
     ]
    },
    {
     "name": "stderr",
     "output_type": "stream",
     "text": [
      " 78%|███████▊  | 137/176 [14:53<05:11,  8.00s/it]"
     ]
    },
    {
     "name": "stdout",
     "output_type": "stream",
     "text": [
      "\n",
      "=== Query: Data Science (Found: 69) ===\n"
     ]
    },
    {
     "name": "stderr",
     "output_type": "stream",
     "text": [
      " 78%|███████▊  | 138/176 [15:01<05:06,  8.08s/it]"
     ]
    },
    {
     "name": "stdout",
     "output_type": "stream",
     "text": [
      "\n",
      "=== Query: Кибербезопасность (Found: 81) ===\n"
     ]
    },
    {
     "name": "stderr",
     "output_type": "stream",
     "text": [
      " 79%|███████▉  | 139/176 [15:08<04:42,  7.64s/it]"
     ]
    },
    {
     "name": "stdout",
     "output_type": "stream",
     "text": [
      "\n",
      "=== Query: Blockchain (Found: 21) ===\n"
     ]
    },
    {
     "name": "stderr",
     "output_type": "stream",
     "text": [
      " 80%|███████▉  | 140/176 [15:15<04:26,  7.41s/it]"
     ]
    },
    {
     "name": "stdout",
     "output_type": "stream",
     "text": [
      "\n",
      "=== Query: VR/AR (Found: 25) ===\n"
     ]
    },
    {
     "name": "stderr",
     "output_type": "stream",
     "text": [
      " 80%|████████  | 141/176 [15:23<04:25,  7.59s/it]"
     ]
    },
    {
     "name": "stdout",
     "output_type": "stream",
     "text": [
      "\n",
      "=== Query: Стажировки (Found: 377) ===\n"
     ]
    },
    {
     "name": "stderr",
     "output_type": "stream",
     "text": [
      " 81%|████████  | 142/176 [15:29<03:59,  7.05s/it]"
     ]
    },
    {
     "name": "stdout",
     "output_type": "stream",
     "text": [
      "\n",
      "=== Query: Обмен студентами (Found: 14) ===\n"
     ]
    },
    {
     "name": "stderr",
     "output_type": "stream",
     "text": [
      " 81%|████████▏ | 143/176 [15:37<04:03,  7.39s/it]"
     ]
    },
    {
     "name": "stdout",
     "output_type": "stream",
     "text": [
      "\n",
      "=== Query: Визы (Found: 43) ===\n"
     ]
    },
    {
     "name": "stderr",
     "output_type": "stream",
     "text": [
      " 82%|████████▏ | 144/176 [15:40<03:17,  6.17s/it]"
     ]
    },
    {
     "name": "stdout",
     "output_type": "stream",
     "text": [
      "\n",
      "=== Query: Языковые курсы (Found: 8) ===\n"
     ]
    },
    {
     "name": "stderr",
     "output_type": "stream",
     "text": [
      " 82%|████████▏ | 145/176 [15:46<03:07,  6.04s/it]"
     ]
    },
    {
     "name": "stdout",
     "output_type": "stream",
     "text": [
      "\n",
      "=== Query: Международные проекты (Found: 15) ===\n"
     ]
    },
    {
     "name": "stderr",
     "output_type": "stream",
     "text": [
      " 83%|████████▎ | 146/176 [15:54<03:20,  6.69s/it]"
     ]
    },
    {
     "name": "stdout",
     "output_type": "stream",
     "text": [
      "\n",
      "=== Query: Резюме (Found: 222) ===\n"
     ]
    },
    {
     "name": "stderr",
     "output_type": "stream",
     "text": [
      " 84%|████████▎ | 147/176 [16:02<03:26,  7.13s/it]"
     ]
    },
    {
     "name": "stdout",
     "output_type": "stream",
     "text": [
      "\n",
      "=== Query: Собеседование (Found: 151) ===\n"
     ]
    },
    {
     "name": "stderr",
     "output_type": "stream",
     "text": [
      " 84%|████████▍ | 148/176 [16:10<03:26,  7.38s/it]"
     ]
    },
    {
     "name": "stdout",
     "output_type": "stream",
     "text": [
      "\n",
      "=== Query: Практика (Found: 510) ===\n"
     ]
    },
    {
     "name": "stderr",
     "output_type": "stream",
     "text": [
      " 85%|████████▍ | 149/176 [16:18<03:25,  7.61s/it]"
     ]
    },
    {
     "name": "stdout",
     "output_type": "stream",
     "text": [
      "\n",
      "=== Query: Стартап-акселератор (Found: 99) ===\n"
     ]
    },
    {
     "name": "stderr",
     "output_type": "stream",
     "text": [
      " 85%|████████▌ | 150/176 [16:26<03:16,  7.54s/it]"
     ]
    },
    {
     "name": "stdout",
     "output_type": "stream",
     "text": [
      "\n",
      "=== Query: Бизнес-инкубатор (Found: 263) ===\n"
     ]
    },
    {
     "name": "stderr",
     "output_type": "stream",
     "text": [
      " 86%|████████▌ | 151/176 [16:33<03:03,  7.34s/it]"
     ]
    },
    {
     "name": "stdout",
     "output_type": "stream",
     "text": [
      "\n",
      "=== Query: Менторство (Found: 23) ===\n"
     ]
    },
    {
     "name": "stderr",
     "output_type": "stream",
     "text": [
      " 86%|████████▋ | 152/176 [16:36<02:25,  6.07s/it]"
     ]
    },
    {
     "name": "stdout",
     "output_type": "stream",
     "text": [
      "\n",
      "=== Query: Networking (Found: 7) ===\n"
     ]
    },
    {
     "name": "stderr",
     "output_type": "stream",
     "text": [
      " 87%|████████▋ | 153/176 [16:43<02:31,  6.60s/it]"
     ]
    },
    {
     "name": "stdout",
     "output_type": "stream",
     "text": [
      "\n",
      "=== Query: Soft skills (Found: 226) ===\n"
     ]
    },
    {
     "name": "stderr",
     "output_type": "stream",
     "text": [
      " 88%|████████▊ | 154/176 [16:51<02:31,  6.90s/it]"
     ]
    },
    {
     "name": "stdout",
     "output_type": "stream",
     "text": [
      "\n",
      "=== Query: Hard skills (Found: 41) ===\n"
     ]
    },
    {
     "name": "stderr",
     "output_type": "stream",
     "text": [
      " 88%|████████▊ | 155/176 [16:58<02:23,  6.85s/it]"
     ]
    },
    {
     "name": "stdout",
     "output_type": "stream",
     "text": [
      "\n",
      "=== Query: Portfolio (Found: 21) ===\n"
     ]
    },
    {
     "name": "stderr",
     "output_type": "stream",
     "text": [
      " 89%|████████▊ | 156/176 [17:06<02:24,  7.21s/it]"
     ]
    },
    {
     "name": "stdout",
     "output_type": "stream",
     "text": [
      "\n",
      "=== Query: Диссертация (Found: 47) ===\n"
     ]
    },
    {
     "name": "stderr",
     "output_type": "stream",
     "text": [
      " 89%|████████▉ | 157/176 [17:07<01:42,  5.40s/it]"
     ]
    },
    {
     "name": "stdout",
     "output_type": "stream",
     "text": [
      "\n",
      "=== Query: Научрук (Found: 0) ===\n"
     ]
    },
    {
     "name": "stderr",
     "output_type": "stream",
     "text": [
      " 90%|████████▉ | 158/176 [17:15<01:48,  6.04s/it]"
     ]
    },
    {
     "name": "stdout",
     "output_type": "stream",
     "text": [
      "\n",
      "=== Query: Патенты (Found: 25) ===\n"
     ]
    },
    {
     "name": "stderr",
     "output_type": "stream",
     "text": [
      " 90%|█████████ | 159/176 [17:22<01:51,  6.55s/it]"
     ]
    },
    {
     "name": "stdout",
     "output_type": "stream",
     "text": [
      "\n",
      "=== Query: Scopus (Found: 126) ===\n"
     ]
    },
    {
     "name": "stderr",
     "output_type": "stream",
     "text": [
      " 91%|█████████ | 160/176 [17:30<01:51,  6.94s/it]"
     ]
    },
    {
     "name": "stdout",
     "output_type": "stream",
     "text": [
      "\n",
      "=== Query: Web of Science (Found: 62) ===\n"
     ]
    },
    {
     "name": "stderr",
     "output_type": "stream",
     "text": [
      " 91%|█████████▏| 161/176 [17:38<01:48,  7.26s/it]"
     ]
    },
    {
     "name": "stdout",
     "output_type": "stream",
     "text": [
      "\n",
      "=== Query: РИНЦ (Found: 1399) ===\n"
     ]
    },
    {
     "name": "stderr",
     "output_type": "stream",
     "text": [
      " 92%|█████████▏| 162/176 [17:47<01:47,  7.69s/it]"
     ]
    },
    {
     "name": "stdout",
     "output_type": "stream",
     "text": [
      "\n",
      "=== Query: Импакт-фактор (Found: 48) ===\n"
     ]
    },
    {
     "name": "stderr",
     "output_type": "stream",
     "text": [
      " 93%|█████████▎| 163/176 [17:50<01:20,  6.22s/it]"
     ]
    },
    {
     "name": "stdout",
     "output_type": "stream",
     "text": [
      "\n",
      "=== Query: Монография (Found: 5) ===\n"
     ]
    },
    {
     "name": "stderr",
     "output_type": "stream",
     "text": [
      " 93%|█████████▎| 164/176 [17:56<01:14,  6.20s/it]"
     ]
    },
    {
     "name": "stdout",
     "output_type": "stream",
     "text": [
      "\n",
      "=== Query: Рецензирование (Found: 17) ===\n"
     ]
    },
    {
     "name": "stderr",
     "output_type": "stream",
     "text": [
      " 94%|█████████▍| 165/176 [18:04<01:15,  6.86s/it]"
     ]
    },
    {
     "name": "stdout",
     "output_type": "stream",
     "text": [
      "\n",
      "=== Query: Индекс Хирша (Found: 31) ===\n"
     ]
    },
    {
     "name": "stderr",
     "output_type": "stream",
     "text": [
      " 94%|█████████▍| 166/176 [18:12<01:11,  7.16s/it]"
     ]
    },
    {
     "name": "stdout",
     "output_type": "stream",
     "text": [
      "\n",
      "=== Query: Психолог (Found: 400) ===\n"
     ]
    },
    {
     "name": "stderr",
     "output_type": "stream",
     "text": [
      " 95%|█████████▍| 167/176 [18:21<01:08,  7.56s/it]"
     ]
    },
    {
     "name": "stdout",
     "output_type": "stream",
     "text": [
      "\n",
      "=== Query: Тьютор (Found: 99) ===\n"
     ]
    },
    {
     "name": "stderr",
     "output_type": "stream",
     "text": [
      " 95%|█████████▌| 168/176 [18:28<01:01,  7.64s/it]"
     ]
    },
    {
     "name": "stdout",
     "output_type": "stream",
     "text": [
      "\n",
      "=== Query: Куратор (Found: 427) ===\n"
     ]
    },
    {
     "name": "stderr",
     "output_type": "stream",
     "text": [
      " 96%|█████████▌| 169/176 [18:37<00:55,  7.88s/it]"
     ]
    },
    {
     "name": "stdout",
     "output_type": "stream",
     "text": [
      "\n",
      "=== Query: Адаптация (Found: 54) ===\n"
     ]
    },
    {
     "name": "stderr",
     "output_type": "stream",
     "text": [
      " 97%|█████████▋| 170/176 [18:45<00:47,  8.00s/it]"
     ]
    },
    {
     "name": "stdout",
     "output_type": "stream",
     "text": [
      "\n",
      "=== Query: Инклюзив (Found: 51) ===\n"
     ]
    },
    {
     "name": "stderr",
     "output_type": "stream",
     "text": [
      " 97%|█████████▋| 171/176 [18:53<00:39,  7.88s/it]"
     ]
    },
    {
     "name": "stdout",
     "output_type": "stream",
     "text": [
      "\n",
      "=== Query: Проректор (Found: 431) ===\n"
     ]
    },
    {
     "name": "stderr",
     "output_type": "stream",
     "text": [
      " 98%|█████████▊| 172/176 [18:56<00:25,  6.44s/it]"
     ]
    },
    {
     "name": "stdout",
     "output_type": "stream",
     "text": [
      "\n",
      "=== Query: Доступная среда (Found: 6) ===\n"
     ]
    },
    {
     "name": "stderr",
     "output_type": "stream",
     "text": [
      " 98%|█████████▊| 173/176 [18:57<00:14,  4.82s/it]"
     ]
    },
    {
     "name": "stdout",
     "output_type": "stream",
     "text": [
      "\n",
      "=== Query: Соцподдержка (Found: 0) ===\n"
     ]
    },
    {
     "name": "stderr",
     "output_type": "stream",
     "text": [
      " 99%|█████████▉| 174/176 [18:58<00:07,  3.67s/it]"
     ]
    },
    {
     "name": "stdout",
     "output_type": "stream",
     "text": [
      "\n",
      "=== Query: Материальная помощь (Found: 0) ===\n"
     ]
    },
    {
     "name": "stderr",
     "output_type": "stream",
     "text": [
      " 99%|█████████▉| 175/176 [18:59<00:02,  2.87s/it]"
     ]
    },
    {
     "name": "stdout",
     "output_type": "stream",
     "text": [
      "\n",
      "=== Query: Профилакторий (Found: 0) ===\n"
     ]
    },
    {
     "name": "stderr",
     "output_type": "stream",
     "text": [
      "100%|██████████| 176/176 [19:02<00:00,  6.49s/it]"
     ]
    },
    {
     "name": "stdout",
     "output_type": "stream",
     "text": [
      "\n",
      "=== Query: Путёвки (Found: 9) ===\n",
      "\n",
      "All results have been written to 'itmo_search_results_LARGE.csv'.\n"
     ]
    },
    {
     "name": "stderr",
     "output_type": "stream",
     "text": [
      "\n"
     ]
    }
   ],
   "source": [
    "queries = [\n",
    "    \"История\", \"Основание\", \"Рейтинг\", \"Титулы\", \"Миссия\",\n",
    "    \"Наука\", \"Исследования\", \"Гранты\", \"Лаборатории\", \"Публикации\",\n",
    "    \"Поступление\", \"Проходной балл\", \"Приёмная\", \"ЕГЭ\", \"Бюджет\",\n",
    "    \"Контракт\", \"Льготы\", \"Целевая\", \"Олимпиады\", \"Права\", \"Факультет\"\n",
    "    \"Стипендии\", \"Повышенная\", \"Соцстипендия\", \"Студгранты\", \"Поддержка\",\n",
    "    \"Спонсорство\", \"Президентская\", \"Международные\", \"Конкурсы\", \"Заявка\",\n",
    "    \"Магистратура\", \"Аспирантура\", \"Докторантура\", \"Бакалавриат\", \"Направления\",\n",
    "    \"Специальности\", \"Учплан\", \"Модули\", \"Заочка\", \"Дистанционка\", \"Новости\"\n",
    "    \"Онлайн-курсы\", \"Допобразование\", \"Квалификация\", \"Профпереподг\", \"Семинары\",\n",
    "    \"Летние школы\", \"Зимние школы\", \"Вечерние\", \"Курсы IT\", \"Компетенции\",\n",
    "    \"Партнёры\", \"Обмен\", \"Двойной диплом\", \"Зарубежная\", \"Академмобильность\",\n",
    "    \"Erasmus+\", \"Иностранцы\", \"Англопрограммы\", \"World rankings\", \"Спорт\",\n",
    "    \"Студсовет\", \"Клубы\", \"Научные кружки\", \"Волонтёры\", \"Студжизнь\",\n",
    "    \"Хакатоны\", \"Проекты\", \"Конференции\", \"Стажировки\", \"Аудитории\",\n",
    "    \"Корпуса\", \"Общежитие\", \"Проживание\", \"Матбаза\", \"Коворкинги\",\n",
    "    \"Библиотека\", \"Электронная\", \"Инфоресурсы\", \"Кампус-тур\", \"Адрес\",\n",
    "    \"Транспорт\", \"Правила\", \"Академотпуск\", \"Перевод\", \"Регламент\",\n",
    "    \"Экзамены\", \"Апелляция\", \"Э-расписание\", \"Выпускники\", \"Вакансии\",\n",
    "    \"Трудоустройство\", \"Компании\", \"Карьерный центр\", \"Стартап\", \"Акселератор\",\n",
    "    \"Предприниматель\", \"Инноватика\", \"Выдающиеся\", \"Известные\", \"Международные\"\n",
    "    \"Искуственный интеллект\", \"Talent Hub\", \"AI\", \"ITMO\", \"ИТМО\", \"Ректор\",\n",
    "    \"Деканат\", \"Кафедра\", \"Учёный совет\", \"Администрация\", \"Документы\",\n",
    "    \"Сессия\", \"Зачёты\", \"Диплом\", \"Практика\", \"Семестр\",\n",
    "    \"Методички\", \"Учебники\", \"Лекции\", \"Семинары\", \"Лабораторные\",\n",
    "    \"Профком\", \"Общага\", \"Столовая\", \"Медпункт\", \"Спортзал\",\n",
    "    \"Творчество\", \"Мероприятия\", \"Концерты\", \"Фестивали\", \"Конкурсы\",\n",
    "    \"Робототехника\", \"Программирование\", \"Биотехнологии\", \"Нанотехнологии\", \"Квантовые технологии\",\n",
    "    \"Машинное обучение\", \"Data Science\", \"Кибербезопасность\", \"Blockchain\", \"VR/AR\",\n",
    "    \"Стажировки\", \"Обмен студентами\", \"Визы\", \"Языковые курсы\", \"Международные проекты\",\n",
    "    \"Резюме\", \"Собеседование\", \"Практика\", \"Стартап-акселератор\", \"Бизнес-инкубатор\",\n",
    "    \"Менторство\", \"Networking\", \"Soft skills\", \"Hard skills\", \"Portfolio\",\n",
    "    \"Диссертация\", \"Научрук\", \"Патенты\", \"Scopus\", \"Web of Science\",\n",
    "    \"РИНЦ\", \"Импакт-фактор\", \"Монография\", \"Рецензирование\", \"Индекс Хирша\",\n",
    "    \"Психолог\", \"Тьютор\", \"Куратор\", \"Адаптация\", \"Инклюзив\",\"Проректор\",\n",
    "    \"Доступная среда\", \"Соцподдержка\", \"Материальная помощь\", \"Профилакторий\", \"Путёвки\"\n",
    "]\n",
    "\n",
    "def main():\n",
    "    csv_filename = \"itmo_search_results_LARGE.csv\"\n",
    "    \n",
    "    # Параметры, которые вы можете менять:\n",
    "    max_articles_to_parse = 30  # Сколько статей максимально разобрать\n",
    "    max_pages_to_crawl = 3      # Сколько страниц будет просмотрено для каждой query\n",
    "\n",
    "    with open(csv_filename, \"w\", newline=\"\", encoding=\"utf-8\") as f:\n",
    "        writer = csv.writer(f, delimiter=\";\")\n",
    "        # Шапка таблицы\n",
    "        writer.writerow([\"Query\", \"Title\", \"url\", \"Date\", \"Snippet/desc\", \"content\"])\n",
    "\n",
    "        for query in tqdm(queries):\n",
    "            try:\n",
    "                search_response = get_search_results(\n",
    "                    query,\n",
    "                    max_articles=max_articles_to_parse,\n",
    "                    max_pages=max_pages_to_crawl\n",
    "                )\n",
    "\n",
    "                print(f\"\\n=== Query: {query} (Found: {search_response.total_results}) ===\")\n",
    "\n",
    "                for idx, result in enumerate(search_response.results, 1):\n",
    "                    row = [\n",
    "                        query,\n",
    "                        result.title,\n",
    "                        str(result.url),\n",
    "                        result.date.isoformat() if result.date else \"\",\n",
    "                        result.description or \"\",\n",
    "                        result.content or \"\"\n",
    "                    ]\n",
    "                    writer.writerow(row)\n",
    "\n",
    "            except Exception as e:\n",
    "                # При ошибках сети или парсинга выводим сообщение, но не прерываем весь процесс\n",
    "                print(f\"Error processing query '{query}': {e}\", file=sys.stderr)\n",
    "\n",
    "    print(f\"\\nAll results have been written to '{csv_filename}'.\")\n",
    "\n",
    "\n",
    "if __name__ == \"__main__\":\n",
    "    main()"
   ]
  },
  {
   "cell_type": "code",
   "execution_count": 46,
   "metadata": {},
   "outputs": [],
   "source": [
    "test = pd.read_csv('itmo_search_results_LARGE.csv', on_bad_lines='skip', delimiter=';')"
   ]
  },
  {
   "cell_type": "code",
   "execution_count": 50,
   "metadata": {},
   "outputs": [
    {
     "data": {
      "text/html": [
       "<div>\n",
       "<style scoped>\n",
       "    .dataframe tbody tr th:only-of-type {\n",
       "        vertical-align: middle;\n",
       "    }\n",
       "\n",
       "    .dataframe tbody tr th {\n",
       "        vertical-align: top;\n",
       "    }\n",
       "\n",
       "    .dataframe thead th {\n",
       "        text-align: right;\n",
       "    }\n",
       "</style>\n",
       "<table border=\"1\" class=\"dataframe\">\n",
       "  <thead>\n",
       "    <tr style=\"text-align: right;\">\n",
       "      <th></th>\n",
       "      <th>Query</th>\n",
       "      <th>Title</th>\n",
       "      <th>url</th>\n",
       "      <th>Date</th>\n",
       "      <th>Snippet/desc</th>\n",
       "      <th>content</th>\n",
       "    </tr>\n",
       "  </thead>\n",
       "  <tbody>\n",
       "    <tr>\n",
       "      <th>0</th>\n",
       "      <td>История</td>\n",
       "      <td>Дополненная реальность: как работает и что жда...</td>\n",
       "      <td>https://news.itmo.ru/ru/education/trend/news/1...</td>\n",
       "      <td>2025-01-31T13:53:30+03:00</td>\n",
       "      <td>…и объектами. Например, цифровой объект можно ...</td>\n",
       "      <td>Играть в виртуальные шахматы прямо в воздухе, ...</td>\n",
       "    </tr>\n",
       "    <tr>\n",
       "      <th>1</th>\n",
       "      <td>История</td>\n",
       "      <td>«Можно быть прикольным ученым, а не скучным за...</td>\n",
       "      <td>https://news.itmo.ru/ru/science/photonics/news...</td>\n",
       "      <td>2025-01-15T13:17:31+03:00</td>\n",
       "      <td>…й в пиджаке.\\r\\n\\r\\n― И как вы решили идти к ...</td>\n",
       "      <td>В школе Алексей Кохановский прочитал автобиогр...</td>\n",
       "    </tr>\n",
       "    <tr>\n",
       "      <th>2</th>\n",
       "      <td>История</td>\n",
       "      <td>«Инклюзия — логичная эволюция дизайна»: какие ...</td>\n",
       "      <td>https://news.itmo.ru/ru/education/trend/news/1...</td>\n",
       "      <td>2024-11-22T16:01:53+03:00</td>\n",
       "      <td>…ь на будущем месте работы», — подчеркнул выпу...</td>\n",
       "      <td>Как сегодня создаются отечественные цифровые с...</td>\n",
       "    </tr>\n",
       "    <tr>\n",
       "      <th>3</th>\n",
       "      <td>История</td>\n",
       "      <td>Не только сфинксы и Эрмитаж: в Петербурге выбр...</td>\n",
       "      <td>https://news.itmo.ru/ru/education/cooperation/...</td>\n",
       "      <td>2024-10-31T10:00:10+03:00</td>\n",
       "      <td>…о сфинксами, Исаакиевским собором и Бродским ...</td>\n",
       "      <td>В Петербурге подвели итоги проектной школы по ...</td>\n",
       "    </tr>\n",
       "    <tr>\n",
       "      <th>4</th>\n",
       "      <td>История</td>\n",
       "      <td>Никакой скучной физкультуры: как «Кронверкские...</td>\n",
       "      <td>https://news.itmo.ru/ru/university_live/social...</td>\n",
       "      <td>2024-10-11T10:02:50+03:00</td>\n",
       "      <td>…Содержание\\r\\n\\r\\n\\r\\n\\tКраткаяисторияклуба\\r...</td>\n",
       "      <td>Пять раз побеждали во всероссийском конкурсе «...</td>\n",
       "    </tr>\n",
       "    <tr>\n",
       "      <th>...</th>\n",
       "      <td>...</td>\n",
       "      <td>...</td>\n",
       "      <td>...</td>\n",
       "      <td>...</td>\n",
       "      <td>...</td>\n",
       "      <td>...</td>\n",
       "    </tr>\n",
       "    <tr>\n",
       "      <th>3883</th>\n",
       "      <td>Путёвки</td>\n",
       "      <td>Экспедиция StartupCабантуй: жесткий поиск лучш...</td>\n",
       "      <td>https://news.itmo.ru/ru/startups_and_business/...</td>\n",
       "      <td>2016-06-28T00:00:00+03:00</td>\n",
       "      <td>NaN</td>\n",
       "      <td>Санкт-Петербург впервые оказался в маршрутном ...</td>\n",
       "    </tr>\n",
       "    <tr>\n",
       "      <th>3884</th>\n",
       "      <td>Путёвки</td>\n",
       "      <td>Первый день SLUSH-2015: Университет ИТМО зажиг...</td>\n",
       "      <td>https://news.itmo.ru/ru/archive/archive2/news/...</td>\n",
       "      <td>2015-11-12T00:00:00+03:00</td>\n",
       "      <td>NaN</td>\n",
       "      <td>11 ноября завершилcя первый день работы крупне...</td>\n",
       "    </tr>\n",
       "    <tr>\n",
       "      <th>3885</th>\n",
       "      <td>Путёвки</td>\n",
       "      <td>Лучшим проектом акселератора Future Technologi...</td>\n",
       "      <td>https://news.itmo.ru/ru/archive/archive2/news/...</td>\n",
       "      <td>2015-09-07T00:00:00+03:00</td>\n",
       "      <td>NaN</td>\n",
       "      <td>Полгода интенсивной работы подошли к концу: в ...</td>\n",
       "    </tr>\n",
       "    <tr>\n",
       "      <th>3886</th>\n",
       "      <td>Путёвки</td>\n",
       "      <td>Эксперты Russian Startup Tour выбрали лучшие и...</td>\n",
       "      <td>https://news.itmo.ru/ru/archive/archive2/news/...</td>\n",
       "      <td>2015-03-27T00:00:00+03:00</td>\n",
       "      <td>NaN</td>\n",
       "      <td>Региональный этап Всероссийского стартап-тура ...</td>\n",
       "    </tr>\n",
       "    <tr>\n",
       "      <th>3887</th>\n",
       "      <td>Путёвки</td>\n",
       "      <td>В битве амбиций. Дюжине российских вузов выдан...</td>\n",
       "      <td>https://news.itmo.ru/ru/archive/archive2/news/...</td>\n",
       "      <td>2013-11-01T00:00:00+03:00</td>\n",
       "      <td>NaN</td>\n",
       "      <td>Два дня подряд члены Совета по повышению конку...</td>\n",
       "    </tr>\n",
       "  </tbody>\n",
       "</table>\n",
       "<p>1755 rows × 6 columns</p>\n",
       "</div>"
      ],
      "text/plain": [
       "        Query                                              Title  \\\n",
       "0     История  Дополненная реальность: как работает и что жда...   \n",
       "1     История  «Можно быть прикольным ученым, а не скучным за...   \n",
       "2     История  «Инклюзия — логичная эволюция дизайна»: какие ...   \n",
       "3     История  Не только сфинксы и Эрмитаж: в Петербурге выбр...   \n",
       "4     История  Никакой скучной физкультуры: как «Кронверкские...   \n",
       "...       ...                                                ...   \n",
       "3883  Путёвки  Экспедиция StartupCабантуй: жесткий поиск лучш...   \n",
       "3884  Путёвки  Первый день SLUSH-2015: Университет ИТМО зажиг...   \n",
       "3885  Путёвки  Лучшим проектом акселератора Future Technologi...   \n",
       "3886  Путёвки  Эксперты Russian Startup Tour выбрали лучшие и...   \n",
       "3887  Путёвки  В битве амбиций. Дюжине российских вузов выдан...   \n",
       "\n",
       "                                                    url  \\\n",
       "0     https://news.itmo.ru/ru/education/trend/news/1...   \n",
       "1     https://news.itmo.ru/ru/science/photonics/news...   \n",
       "2     https://news.itmo.ru/ru/education/trend/news/1...   \n",
       "3     https://news.itmo.ru/ru/education/cooperation/...   \n",
       "4     https://news.itmo.ru/ru/university_live/social...   \n",
       "...                                                 ...   \n",
       "3883  https://news.itmo.ru/ru/startups_and_business/...   \n",
       "3884  https://news.itmo.ru/ru/archive/archive2/news/...   \n",
       "3885  https://news.itmo.ru/ru/archive/archive2/news/...   \n",
       "3886  https://news.itmo.ru/ru/archive/archive2/news/...   \n",
       "3887  https://news.itmo.ru/ru/archive/archive2/news/...   \n",
       "\n",
       "                           Date  \\\n",
       "0     2025-01-31T13:53:30+03:00   \n",
       "1     2025-01-15T13:17:31+03:00   \n",
       "2     2024-11-22T16:01:53+03:00   \n",
       "3     2024-10-31T10:00:10+03:00   \n",
       "4     2024-10-11T10:02:50+03:00   \n",
       "...                         ...   \n",
       "3883  2016-06-28T00:00:00+03:00   \n",
       "3884  2015-11-12T00:00:00+03:00   \n",
       "3885  2015-09-07T00:00:00+03:00   \n",
       "3886  2015-03-27T00:00:00+03:00   \n",
       "3887  2013-11-01T00:00:00+03:00   \n",
       "\n",
       "                                           Snippet/desc  \\\n",
       "0     …и объектами. Например, цифровой объект можно ...   \n",
       "1     …й в пиджаке.\\r\\n\\r\\n― И как вы решили идти к ...   \n",
       "2     …ь на будущем месте работы», — подчеркнул выпу...   \n",
       "3     …о сфинксами, Исаакиевским собором и Бродским ...   \n",
       "4     …Содержание\\r\\n\\r\\n\\r\\n\\tКраткаяисторияклуба\\r...   \n",
       "...                                                 ...   \n",
       "3883                                                NaN   \n",
       "3884                                                NaN   \n",
       "3885                                                NaN   \n",
       "3886                                                NaN   \n",
       "3887                                                NaN   \n",
       "\n",
       "                                                content  \n",
       "0     Играть в виртуальные шахматы прямо в воздухе, ...  \n",
       "1     В школе Алексей Кохановский прочитал автобиогр...  \n",
       "2     Как сегодня создаются отечественные цифровые с...  \n",
       "3     В Петербурге подвели итоги проектной школы по ...  \n",
       "4     Пять раз побеждали во всероссийском конкурсе «...  \n",
       "...                                                 ...  \n",
       "3883  Санкт-Петербург впервые оказался в маршрутном ...  \n",
       "3884  11 ноября завершилcя первый день работы крупне...  \n",
       "3885  Полгода интенсивной работы подошли к концу: в ...  \n",
       "3886  Региональный этап Всероссийского стартап-тура ...  \n",
       "3887  Два дня подряд члены Совета по повышению конку...  \n",
       "\n",
       "[1755 rows x 6 columns]"
      ]
     },
     "execution_count": 50,
     "metadata": {},
     "output_type": "execute_result"
    }
   ],
   "source": [
    "test.drop_duplicates(subset='url')"
   ]
  },
  {
   "cell_type": "code",
   "execution_count": null,
   "metadata": {},
   "outputs": [],
   "source": [
    "queries = [\n",
    "    \"История\", \"Основание\", \"Рейтинг\", \"Титулы\", \"Миссия\",\n",
    "    \"Наука\", \"Исследования\", \"Гранты\", \"Лаборатории\", \"Публикации\",\n",
    "    \"Поступление\", \"Проходной балл\", \"Приёмная\", \"ЕГЭ\", \"Бюджет\",\n",
    "    \"Контракт\", \"Льготы\", \"Целевая\", \"Олимпиады\", \"Права\", \"Факультет\"\n",
    "    \"Стипендии\", \"Повышенная\", \"Соцстипендия\", \"Студгранты\", \"Поддержка\",\n",
    "    \"Спонсорство\", \"Президентская\", \"Международные\", \"Конкурсы\", \"Заявка\",\n",
    "    \"Магистратура\", \"Аспирантура\", \"Докторантура\", \"Бакалавриат\", \"Направления\",\n",
    "    \"Специальности\", \"Учплан\", \"Модули\", \"Заочка\", \"Дистанционка\", \"Новости\"\n",
    "    \"Онлайн-курсы\", \"Допобразование\", \"Квалификация\", \"Профпереподг\", \"Семинары\",\n",
    "    \"Летние школы\", \"Зимние школы\", \"Вечерние\", \"Курсы IT\", \"Компетенции\",\n",
    "    \"Партнёры\", \"Обмен\", \"Двойной диплом\", \"Зарубежная\", \"Академмобильность\",\n",
    "    \"Erasmus+\", \"Иностранцы\", \"Англопрограммы\", \"World rankings\", \"Спорт\",\n",
    "    \"Студсовет\", \"Клубы\", \"Научные кружки\", \"Волонтёры\", \"Студжизнь\",\n",
    "    \"Хакатоны\", \"Проекты\", \"Конференции\", \"Стажировки\", \"Аудитории\",\n",
    "    \"Корпуса\", \"Общежитие\", \"Проживание\", \"Матбаза\", \"Коворкинги\",\n",
    "    \"Библиотека\", \"Электронная\", \"Инфоресурсы\", \"Кампус-тур\", \"Адрес\",\n",
    "    \"Транспорт\", \"Правила\", \"Академотпуск\", \"Перевод\", \"Регламент\",\n",
    "    \"Экзамены\", \"Апелляция\", \"Э-расписание\", \"Выпускники\", \"Вакансии\",\n",
    "    \"Трудоустройство\", \"Компании\", \"Карьерный центр\", \"Стартап\", \"Акселератор\",\n",
    "    \"Предприниматель\", \"Инноватика\", \"Выдающиеся\", \"Известные\", \"Международные\"\n",
    "    \"Искуственный интеллект\", \"Talent Hub\", \"AI\", \"ITMO\", \"ИТМО\", \"Ректор\",\n",
    "    \"Проректор\", \n",
    "]\n",
    "\n",
    "queries_second = [\n",
    "    \"Деканат\", \"Кафедра\", \"Учёный совет\", \"Администрация\", \"Документы\",\n",
    "    \"Сессия\", \"Зачёты\", \"Диплом\", \"Практика\", \"Семестр\",\n",
    "    \"Методички\", \"Учебники\", \"Лекции\", \"Семинары\", \"Лабораторные\",\n",
    "    \"Профком\", \"Общага\", \"Столовая\", \"Медпункт\", \"Спортзал\",\n",
    "    \"Творчество\", \"Мероприятия\", \"Концерты\", \"Фестивали\", \"Конкурсы\",\n",
    "    \"Робототехника\", \"Программирование\", \"Биотехнологии\", \"Нанотехнологии\", \"Квантовые технологии\",\n",
    "    \"Машинное обучение\", \"Data Science\", \"Кибербезопасность\", \"Blockchain\", \"VR/AR\",\n",
    "    \"Стажировки\", \"Обмен студентами\", \"Визы\", \"Языковые курсы\", \"Международные проекты\",\n",
    "    \"Резюме\", \"Собеседование\", \"Практика\", \"Стартап-акселератор\", \"Бизнес-инкубатор\",\n",
    "    \"Менторство\", \"Networking\", \"Soft skills\", \"Hard skills\", \"Portfolio\",\n",
    "    \"Диссертация\", \"Научрук\", \"Патенты\", \"Scopus\", \"Web of Science\",\n",
    "    \"РИНЦ\", \"Импакт-фактор\", \"Монография\", \"Рецензирование\", \"Индекс Хирша\",\n",
    "    \"Психолог\", \"Тьютор\", \"Куратор\", \"Адаптация\", \"Инклюзив\",\n",
    "    \"Доступная среда\", \"Соцподдержка\", \"Материальная помощь\", \"Профилакторий\", \"Путёвки\"\n",
    "]\n",
    "\n",
    "def main():\n",
    "    csv_filename = \"itmo_search_results_second.csv\"\n",
    "\n",
    "    # Open CSV file for writing\n",
    "    with open(csv_filename, \"w\", newline=\"\", encoding=\"utf-8\") as f:\n",
    "        writer = csv.writer(f, delimiter=\";\")\n",
    "        # Header row\n",
    "        writer.writerow([\"Query\", \"Title\", \"url\", \"Date\", \"Snippet/desc\", \"content\"])\n",
    "\n",
    "        for query in tqdm(queries):\n",
    "            try:\n",
    "                # Call your previously defined function:\n",
    "                search_response = get_search_results(query, max_articles=40)\n",
    "\n",
    "                # Print a short summary to console\n",
    "                print(f\"\\n=== Query: {query} (Found: {search_response.total_results}) ===\")\n",
    "\n",
    "                for idx, result in enumerate(search_response.results, 1):\n",
    "                    # Save row to CSV\n",
    "                    row = [\n",
    "                        query,\n",
    "                        result.title,\n",
    "                        str(result.url),\n",
    "                        result.date.isoformat() if result.date else \"\",\n",
    "                        result.description or \"\",\n",
    "                        result.content or \"\"\n",
    "                    ]\n",
    "                    writer.writerow(row)\n",
    "\n",
    "            except Exception as e:\n",
    "                # If there's a network error or parse error, print it but continue\n",
    "                print(f\"Error processing query '{query}': {e}\", file=sys.stderr)\n",
    "\n",
    "    print(f\"\\nAll results have been written to '{csv_filename}'.\")\n",
    "\n",
    "if __name__ == \"__main__\":\n",
    "    main()"
   ]
  },
  {
   "cell_type": "code",
   "execution_count": 51,
   "metadata": {},
   "outputs": [],
   "source": [
    "import pandas as pd\n",
    "\n",
    "parsed_data = pd.read_csv('itmo_search_results_LARGE.csv', on_bad_lines='skip', delimiter=';')"
   ]
  },
  {
   "cell_type": "code",
   "execution_count": 52,
   "metadata": {},
   "outputs": [],
   "source": [
    "parsed_data = parsed_data.rename(columns={'URL': 'url', 'Content': 'content'})\n",
    "parsed_data['source'] = parsed_data['url']\n",
    "parsed_data = parsed_data.drop_duplicates(subset='url')"
   ]
  },
  {
   "cell_type": "code",
   "execution_count": null,
   "metadata": {},
   "outputs": [],
   "source": [
    "parsed_data.to_csv('../../data/processed/texts_LARGE.csv', index=False)"
   ]
  },
  {
   "cell_type": "code",
   "execution_count": 13,
   "metadata": {},
   "outputs": [],
   "source": [
    "parsed_data_v1 = pd.read_csv('../../data/processed/texts.csv')\n",
    "parsed_data_v2 = pd.read_csv('../../data/processed/texts_second.csv')"
   ]
  },
  {
   "cell_type": "code",
   "execution_count": 30,
   "metadata": {},
   "outputs": [],
   "source": [
    "full_data = pd.concat([parsed_data_v1, parsed_data_v2]).drop_duplicates(subset='url')"
   ]
  },
  {
   "cell_type": "code",
   "execution_count": 31,
   "metadata": {},
   "outputs": [],
   "source": [
    "full_data.to_csv('../../data/processed/texts_final.csv', index=False)"
   ]
  },
  {
   "cell_type": "code",
   "execution_count": null,
   "metadata": {},
   "outputs": [],
   "source": []
  }
 ],
 "metadata": {
  "kernelspec": {
   "display_name": "base",
   "language": "python",
   "name": "python3"
  },
  "language_info": {
   "codemirror_mode": {
    "name": "ipython",
    "version": 3
   },
   "file_extension": ".py",
   "mimetype": "text/x-python",
   "name": "python",
   "nbconvert_exporter": "python",
   "pygments_lexer": "ipython3",
   "version": "3.12.2"
  }
 },
 "nbformat": 4,
 "nbformat_minor": 2
}
